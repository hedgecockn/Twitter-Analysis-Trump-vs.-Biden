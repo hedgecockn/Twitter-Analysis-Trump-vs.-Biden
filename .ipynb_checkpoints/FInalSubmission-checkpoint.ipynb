{
 "cells": [
  {
   "cell_type": "markdown",
   "metadata": {},
   "source": [
    "# Analysis Of Trump and Biden Twitter Followers"
   ]
  },
  {
   "cell_type": "markdown",
   "metadata": {},
   "source": [
    "#### First all of the import statements we will need"
   ]
  },
  {
   "cell_type": "code",
   "execution_count": 2,
   "metadata": {},
   "outputs": [],
   "source": [
    "from tqdm import tqdm\n",
    "import os\n",
    "import twint\n",
    "import pandas as pd\n",
    "import numpy as np\n",
    "from collections import defaultdict\n",
    "from collections import Counter\n",
    "import csv\n",
    "import math\n",
    "from math import log2\n",
    "import matplotlib.pyplot as plt\n",
    "from sklearn.naive_bayes import BernoulliNB"
   ]
  },
  {
   "cell_type": "markdown",
   "metadata": {},
   "source": [
    "#### Loading our matrices that we scraped from twitter using [Twint](https://github.com/twintproject/twint)"
   ]
  },
  {
   "cell_type": "code",
   "execution_count": 3,
   "metadata": {},
   "outputs": [],
   "source": [
    "# a 442by84 matrix. There are 442 followers, half following Biden and half following Trump, and we analyze 84\n",
    "# different accounts that these followers follow (we will from here on out refer to these accounts as teams. Whether \n",
    "# or not they follow a team is represented in binary in this matrix\n",
    "matrix = np.load('matrix.npy')\n",
    "\n",
    "# a binary vector of length 442. 0's represent Biden followers and 1's represent Trump followers\n",
    "targetArray = np.load('tagetArray.npy')\n",
    "\n",
    "# A list of the names of the 84 teams in the same order as in 'matrix'\n",
    "topTeamsListMessy = np.load('topTeamsList.npy')"
   ]
  },
  {
   "cell_type": "markdown",
   "metadata": {},
   "source": [
    "#### We have to clean up 'topTeamsListMessy' because it has a bunch of unwanted symbols in it"
   ]
  },
  {
   "cell_type": "code",
   "execution_count": 4,
   "metadata": {},
   "outputs": [],
   "source": [
    "def cleanTeamsList(teamsList):\n",
    "    cleanList = []\n",
    "    for user in teamsList:\n",
    "        cleanUser = user[2:-3]\n",
    "        cleanList.append(cleanUser)\n",
    "    return cleanList\n",
    "\n",
    "topTeamsList = cleanTeamsList(topTeamsListMessy)"
   ]
  },
  {
   "cell_type": "markdown",
   "metadata": {},
   "source": [
    "### Taking a quick look at what our data looks like"
   ]
  },
  {
   "cell_type": "markdown",
   "metadata": {},
   "source": [
    "#### To start we just want to see how many of the top 84 teams an average Trump or Biden follower follows"
   ]
  },
  {
   "cell_type": "code",
   "execution_count": 5,
   "metadata": {},
   "outputs": [
    {
     "name": "stdout",
     "output_type": "stream",
     "text": [
      "Biden followers follow 7.285046728971962 of the 84 teams on average\n",
      "Trump followers follow 4.798245614035087 of the 84 teams on average\n"
     ]
    }
   ],
   "source": [
    "def averageFollowing(matrix1, matrix2, classification):\n",
    "    totalInClass = 0\n",
    "    totalFollowing = 0\n",
    "    for i in range(len(matrix2)):\n",
    "        if (matrix2[i] == classification):\n",
    "            totalInClass += 1;\n",
    "            for e in matrix1[i]:\n",
    "                if (e == 1):\n",
    "                    totalFollowing += 1;\n",
    "    return totalFollowing / totalInClass\n",
    "\n",
    "print(\"Biden followers follow \" + str(averageFollowing(matrix, targetArray, 0)) + \" of the 84 teams on average\")\n",
    "print(\"Trump followers follow \" + str(averageFollowing(matrix, targetArray, 1)) + \" of the 84 teams on average\")"
   ]
  },
  {
   "cell_type": "markdown",
   "metadata": {},
   "source": [
    "#### From this we can see that Biden followers follow more of the popular teams than Trump followers. Lets see what the distributions of how many of the teams they follow look like"
   ]
  },
  {
   "cell_type": "code",
   "execution_count": 6,
   "metadata": {},
   "outputs": [],
   "source": [
    "def createFollowingList(matrix1, matrix2, classification):\n",
    "    followingList = []\n",
    "    for i in range(len(matrix2)):\n",
    "        if (matrix2[i] == classification):\n",
    "            numFollowing = 0\n",
    "            for e in matrix1[i]:\n",
    "                if (e == 1):\n",
    "                    numFollowing += 1;\n",
    "            followingList.append(numFollowing)\n",
    "    return followingList\n",
    "\n",
    "bidenFollowingList = createFollowingList(matrix, targetArray, 0)\n",
    "trumpFollowingList = createFollowingList(matrix, targetArray, 1)"
   ]
  },
  {
   "cell_type": "code",
   "execution_count": 7,
   "metadata": {},
   "outputs": [
    {
     "data": {
      "image/png": "[encoded data removed]",
      "text/plain": [
       "<Figure size 432x288 with 1 Axes>"
      ]
     },
     "metadata": {
      "needs_background": "light"
     },
     "output_type": "display_data"
    }
   ],
   "source": [
    "plt.hist(bidenFollowingList, bins = 30)\n",
    "plt.title('Biden')\n",
    "plt.xlim(0, 50)\n",
    "plt.ylim(0, 100)\n",
    "plt.ylabel('number of followers')\n",
    "plt.xlabel('number following');"
   ]
  },
  {
   "cell_type": "code",
   "execution_count": 8,
   "metadata": {},
   "outputs": [
    {
     "data": {
      "image/png": "[encoded data removed]",
      "text/plain": [
       "<Figure size 432x288 with 1 Axes>"
      ]
     },
     "metadata": {
      "needs_background": "light"
     },
     "output_type": "display_data"
    }
   ],
   "source": [
    "plt.hist(trumpFollowingList, bins = 30)\n",
    "plt.title('Trump')\n",
    "plt.xlim(0, 50)\n",
    "plt.ylim(0, 100)\n",
    "plt.ylabel('number of followers')\n",
    "plt.xlabel('number following');"
   ]
  },
  {
   "cell_type": "markdown",
   "metadata": {},
   "source": [
    "#### The distributions of the two look a little different. Biden followers are fairly spread out as too how many of the top teams they follow whereas Trump followers seem to either follow just a few teams or a ton. Not many Trump followers follow an amount in the middle.\n",
    "\n",
    "#### Not a lot of interesting conclusions to be made here so lets move on to Entropy Analysis"
   ]
  },
  {
   "cell_type": "markdown",
   "metadata": {},
   "source": [
    "## Entropy Analysis (Section needs to be commented on)"
   ]
  },
  {
   "cell_type": "code",
   "execution_count": 9,
   "metadata": {
    "scrolled": true
   },
   "outputs": [
    {
     "name": "stdout",
     "output_type": "stream",
     "text": [
      "KAMALAHARRIS\n",
      "Length of team matrix:  130\n",
      "Length of NOT team matrix:  312\n"
     ]
    }
   ],
   "source": [
    "def createSubgroups(matrix, targetArray, teamsList, teamSpec):\n",
    "    listOfTeam = []\n",
    "    listOfNotTeam = []\n",
    "    teamTargetArray = []\n",
    "    notTeamTargetArray = []\n",
    "    \n",
    "    for index, team in enumerate(teamsList):\n",
    "        if team == teamSpec:\n",
    "            teamIndex = index\n",
    "    for index2, person in enumerate(matrix):\n",
    "        if person[teamIndex] == 1:\n",
    "            listOfTeam.append(person)\n",
    "            if int(targetArray[index2]) == 1:\n",
    "                teamTargetArray.append(1)\n",
    "            else:\n",
    "                teamTargetArray.append(0)\n",
    "        else:\n",
    "            listOfNotTeam.append(person)\n",
    "            if int(targetArray[index2]) == 1:\n",
    "                notTeamTargetArray.append(1)\n",
    "            else:\n",
    "                notTeamTargetArray.append(0)\n",
    "    return listOfTeam, listOfNotTeam, teamTargetArray, notTeamTargetArray\n",
    "\n",
    "listOfTeam, listOfNotTeam, teamTargetArray, notTeamTargetArray = createSubgroups(matrix, targetArray, topTeamsList, 'KamalaHarris')\n",
    "\n",
    "print(\"KAMALAHARRIS\")\n",
    "print(\"Length of team matrix: \", len(listOfTeam))\n",
    "print(\"Length of NOT team matrix: \", len(listOfNotTeam))\n"
   ]
  },
  {
   "cell_type": "code",
   "execution_count": 10,
   "metadata": {},
   "outputs": [
    {
     "name": "stdout",
     "output_type": "stream",
     "text": [
      "POTUS Biden:  101\n",
      "POTUS Trump:  29\n"
     ]
    }
   ],
   "source": [
    "def findTrumpBiden(group, targetArray):\n",
    "    countTrump = 0\n",
    "    countBiden = 0\n",
    "    for index, person in enumerate(group):\n",
    "        if targetArray[index] == 1:\n",
    "            countTrump += 1\n",
    "        else:\n",
    "            countBiden += 1\n",
    "    return countTrump, countBiden\n",
    "countTrump, countBiden = findTrumpBiden(listOfTeam, teamTargetArray)\n",
    "print(\"POTUS Biden: \", countBiden)\n",
    "print(\"POTUS Trump: \", countTrump)"
   ]
  },
  {
   "cell_type": "code",
   "execution_count": 11,
   "metadata": {},
   "outputs": [],
   "source": [
    "def shannonEntropy(vector):\n",
    "\n",
    "    listOfElements = []\n",
    "    for p in vector:\n",
    "        if p > 0:\n",
    "            element = p*log2(p)\n",
    "            listOfElements.append(element)\n",
    "        else:\n",
    "            element = 0\n",
    "            listOfElements.append(element)\n",
    "        entropy = -1 * sum(listOfElements)\n",
    "    return entropy"
   ]
  },
  {
   "cell_type": "code",
   "execution_count": 12,
   "metadata": {},
   "outputs": [],
   "source": [
    "def findShannonEntropy(groupTeam, teamTargetArray, matrix):\n",
    "    countTrumpTeam, countBidenTeam = findTrumpBiden(groupTeam, teamTargetArray)\n",
    "    if (countTrumpTeam + countBidenTeam) != 0:\n",
    "        probTrumpTeam = countTrumpTeam / (countTrumpTeam + countBidenTeam)\n",
    "        probBidenTeam = countBidenTeam / (countTrumpTeam + countBidenTeam)\n",
    "    else:\n",
    "        probTrumpTeam = 0\n",
    "        probBidenTeam = 0\n",
    "\n",
    "    probTeamVector = [probTrumpTeam, probBidenTeam]\n",
    "    sEntropy = shannonEntropy(probTeamVector)\n",
    "    return sEntropy"
   ]
  },
  {
   "cell_type": "code",
   "execution_count": 13,
   "metadata": {},
   "outputs": [
    {
     "name": "stdout",
     "output_type": "stream",
     "text": [
      "Weighted Average Entropy of team of POTUS User:  0.22521947302504128\n",
      "Weighted Average Entropy of NOT team of POTUS User: 0.6666899774749303\n"
     ]
    }
   ],
   "source": [
    "def findWeightedShannonEntropy(groupTeam, teamTargetArray, matrix):\n",
    "    countTrumpTeam, countBidenTeam = findTrumpBiden(groupTeam, teamTargetArray)\n",
    "    if (countTrumpTeam + countBidenTeam) != 0:\n",
    "        probTrumpTeam = countTrumpTeam / (countTrumpTeam + countBidenTeam)\n",
    "        probBidenTeam = countBidenTeam / (countTrumpTeam + countBidenTeam)\n",
    "    else:\n",
    "        probTrumpTeam = 0\n",
    "        probBidenTeam = 0\n",
    "\n",
    "    probTeamVector = [probTrumpTeam, probBidenTeam]\n",
    "    sEntropy = shannonEntropy(probTeamVector)\n",
    "    wae = sEntropy * (len(groupTeam)/len(matrix))\n",
    "    return wae\n",
    "\n",
    "waeTeam = findWeightedShannonEntropy(listOfTeam, teamTargetArray, matrix)\n",
    "waeNotTeam = findWeightedShannonEntropy(listOfNotTeam, notTeamTargetArray, matrix)\n",
    "print(\"Weighted Average Entropy of team of POTUS User: \", waeTeam)\n",
    "print(\"Weighted Average Entropy of NOT team of POTUS User:\", waeNotTeam)"
   ]
  },
  {
   "cell_type": "code",
   "execution_count": 14,
   "metadata": {},
   "outputs": [],
   "source": [
    "def getSplitWAE(groupTeam, groupNotTeam, teamTargetArray, notTeamTargetArray, matrix):\n",
    "        wae1 = findWeightedShannonEntropy(groupTeam, teamTargetArray, matrix)\n",
    "        \n",
    "        wae2 = findWeightedShannonEntropy(groupNotTeam, notTeamTargetArray, matrix)\n",
    "\n",
    "        return (wae1 + wae2)"
   ]
  },
  {
   "cell_type": "code",
   "execution_count": 15,
   "metadata": {},
   "outputs": [
    {
     "name": "stdout",
     "output_type": "stream",
     "text": [
      "10 Lowest Entropies:  [('KamalaHarris', 0.8919094504999716), ('BarackObama', 0.9469477457556994), ('ArianaGrande', 0.9529453112140598), ('SidneyPowell1', 0.9546119031023518), ('MichelleObama', 0.958975521722012), ('rihanna', 0.9647668343235515), ('NICKIMINAJ', 0.9660898111710107), ('KylieJenner', 0.9695709730344851), ('TrumpWarRoom', 0.9705844310763023), ('kayleighmcenany', 0.9718664627470197)]\n",
      "10 Highest Entropies:  [('ABC', 0.9992670226986101), ('espn', 0.9992670226986101), ('Twitter', 0.9990524568763821), ('jimmyfallon', 0.9990509447928101), ('NatGeo', 0.99904579377482), ('StephenAtHome', 0.99904579377482), ('SportsCenter', 0.99904579377482), ('DrBiden', 0.9987279314906236), ('BillGates', 0.9983180476184748), ('NFL', 0.9982796895058352)]\n"
     ]
    },
    {
     "data": {
      "image/png": "[encoded data removed]",
      "text/plain": [
       "<Figure size 432x288 with 1 Axes>"
      ]
     },
     "metadata": {
      "needs_background": "light"
     },
     "output_type": "display_data"
    }
   ],
   "source": [
    "def createWAEDict(matrix, targetArray, topTeams):\n",
    "    dictWAE = defaultdict(float)\n",
    "    for index, team in enumerate(topTeams):\n",
    "        groupTeam, groupNotTeam, TeamTargetArray, notTeamTargetArray = createSubgroups(matrix, targetArray, topTeams, team)\n",
    "        teamWAE = getSplitWAE(groupTeam, groupNotTeam, TeamTargetArray, notTeamTargetArray, matrix)\n",
    "        dictWAE[team] = teamWAE\n",
    "    return dictWAE\n",
    "\n",
    "dictOfwae = createWAEDict(matrix, targetArray, topTeamsList)\n",
    "counterWAE = Counter(dictOfwae)\n",
    "\n",
    "fig, ax1 = plt.subplots()\n",
    "ax1.hist(counterWAE.values(), color='orange', bins = 50)\n",
    "ax1.set_title('Weighted Average Entropy Distribution', fontsize=60)\n",
    "ax1.set_xlabel('Average weighted entropy', fontsize=40)\n",
    "ax1.set_ylabel('Number of splits', fontsize=40)\n",
    "ax1.tick_params(axis='x', labelsize=30)\n",
    "ax1.tick_params(axis='y', labelsize=30)\n",
    "fig.subplots_adjust(left=0, right=4, bottom=0, top=4)\n",
    "\n",
    "print(\"10 Lowest Entropies: \", counterWAE.most_common()[:-10-1:-1])\n",
    "print(\"10 Highest Entropies: \", counterWAE.most_common(10))"
   ]
  },
  {
   "cell_type": "code",
   "execution_count": 16,
   "metadata": {},
   "outputs": [
    {
     "ename": "NameError",
     "evalue": "name 'newDict' is not defined",
     "output_type": "error",
     "traceback": [
      "\u001b[0;31m---------------------------------------------------------------------------\u001b[0m",
      "\u001b[0;31mNameError\u001b[0m                                 Traceback (most recent call last)",
      "\u001b[0;32m<ipython-input-16-f372b2175e2c>\u001b[0m in \u001b[0;36m<module>\u001b[0;34m\u001b[0m\n\u001b[1;32m      2\u001b[0m     \u001b[0msortedDict\u001b[0m \u001b[0;34m=\u001b[0m \u001b[0msorted\u001b[0m\u001b[0;34m(\u001b[0m\u001b[0mdictOfWAE\u001b[0m\u001b[0;34m.\u001b[0m\u001b[0mitems\u001b[0m\u001b[0;34m(\u001b[0m\u001b[0;34m)\u001b[0m\u001b[0;34m,\u001b[0m \u001b[0mkey\u001b[0m \u001b[0;34m=\u001b[0m \u001b[0;32mlambda\u001b[0m \u001b[0mx\u001b[0m\u001b[0;34m:\u001b[0m \u001b[0mx\u001b[0m\u001b[0;34m[\u001b[0m\u001b[0;36m1\u001b[0m\u001b[0;34m]\u001b[0m\u001b[0;34m,\u001b[0m \u001b[0mreverse\u001b[0m \u001b[0;34m=\u001b[0m \u001b[0;32mFalse\u001b[0m\u001b[0;34m)\u001b[0m\u001b[0;34m\u001b[0m\u001b[0;34m\u001b[0m\u001b[0m\n\u001b[1;32m      3\u001b[0m     \u001b[0;32mreturn\u001b[0m \u001b[0msortedDict\u001b[0m\u001b[0;34m[\u001b[0m\u001b[0;36m0\u001b[0m\u001b[0;34m]\u001b[0m\u001b[0;34m[\u001b[0m\u001b[0;36m0\u001b[0m\u001b[0;34m]\u001b[0m\u001b[0;34m\u001b[0m\u001b[0;34m\u001b[0m\u001b[0m\n\u001b[0;32m----> 4\u001b[0;31m \u001b[0mteam\u001b[0m \u001b[0;34m=\u001b[0m \u001b[0mfindLowestSplit\u001b[0m\u001b[0;34m(\u001b[0m\u001b[0mnewDict\u001b[0m\u001b[0;34m,\u001b[0m \u001b[0mmatrix\u001b[0m\u001b[0;34m,\u001b[0m \u001b[0mtopTeamsList\u001b[0m\u001b[0;34m,\u001b[0m \u001b[0mtargetArray\u001b[0m\u001b[0;34m)\u001b[0m\u001b[0;34m\u001b[0m\u001b[0;34m\u001b[0m\u001b[0m\n\u001b[0m\u001b[1;32m      5\u001b[0m \u001b[0mprint\u001b[0m\u001b[0;34m(\u001b[0m\u001b[0;34m\"Lowest entropy: \"\u001b[0m\u001b[0;34m)\u001b[0m\u001b[0;34m\u001b[0m\u001b[0;34m\u001b[0m\u001b[0m\n\u001b[1;32m      6\u001b[0m \u001b[0mprint\u001b[0m\u001b[0;34m(\u001b[0m\u001b[0mteam\u001b[0m\u001b[0;34m)\u001b[0m\u001b[0;34m\u001b[0m\u001b[0;34m\u001b[0m\u001b[0m\n",
      "\u001b[0;31mNameError\u001b[0m: name 'newDict' is not defined"
     ]
    }
   ],
   "source": [
    "def findLowestSplit(dictOfWAE, matrix, topTeams, targetArray):\n",
    "    sortedDict = sorted(dictOfWAE.items(), key = lambda x: x[1], reverse = False)\n",
    "    return sortedDict[0][0]\n",
    "team = findLowestSplit(newDict, matrix, topTeamsList, targetArray)\n",
    "print(\"Lowest entropy: \")\n",
    "print(team)"
   ]
  },
  {
   "cell_type": "code",
   "execution_count": null,
   "metadata": {},
   "outputs": [],
   "source": [
    "def createTree(matrix, topTeams, targetArray):\n",
    "    if len(matrix) < 5:\n",
    "        return \"\"\n",
    "    waeDict = createWAEDict(matrix, targetArray, topTeams)\n",
    "    user = findLowestSplit(waeDict, matrix, topTeams, targetArray)\n",
    "    if user != None:\n",
    "        group1, group2, targetArray1, targetArray2 = createSubgroups(matrix, targetArray, topTeams, user)\n",
    "    else:\n",
    "        return \"\"\n",
    "    print()\n",
    "    print(\"Split by: \", user)\n",
    "    print(\"Weighted entropy: \", waeDict[user])\n",
    "\n",
    "    group1sEntropy = findShannonEntropy(group1, targetArray1, matrix)\n",
    "    group2sEntropy = findShannonEntropy(group2, targetArray2, matrix)\n",
    "    \n",
    "    if group1sEntropy >= group2sEntropy:\n",
    "        chaoticGroup = group1\n",
    "        chaoticTA = targetArray1\n",
    "        calmGroup = group2\n",
    "        chaoticEntropy = group1sEntropy\n",
    "        calmEntropy = group2sEntropy\n",
    "    else:\n",
    "        chaoticGroup = group2\n",
    "        chaoticTA = targetArray2\n",
    "        calmGroup = group1\n",
    "        calmEntropy = group1sEntropy\n",
    "        chaoticEntropy = group2sEntropy\n",
    "\n",
    "    print(\"Chaotic group size: \", np.array(chaoticGroup).shape)\n",
    "    print(\"Chaotic group entropy: \", chaoticEntropy)\n",
    "    print(\"Calm group size: \", np.array(calmGroup).shape)\n",
    "    print(\"Calm group entropy: \", calmEntropy)\n",
    "\n",
    "    return createTree(chaoticGroup, topTeams, chaoticTA)\n",
    "        \n",
    "\n",
    "createTree(matrix, topTeamsList, targetArray)\n",
    "\n",
    "    \n",
    "    "
   ]
  },
  {
   "cell_type": "code",
   "execution_count": null,
   "metadata": {
    "scrolled": false
   },
   "outputs": [],
   "source": [
    "from sklearn import tree\n",
    "import graphviz\n",
    "\n",
    "clf = tree.DecisionTreeClassifier()\n",
    "clf.fit(matrix, targetArray)\n",
    "\n",
    "x = clf.predict_proba(matrix[340].reshape(1, -1))\n",
    "print(x)\n",
    "print(targetArray[340])\n",
    "\n",
    "tree.plot_tree(clf)\n",
    "dot_data = tree.export_graphviz(clf, out_file='decisionTree')\n",
    "graph = graphviz.Source(dot_data)"
   ]
  },
  {
   "cell_type": "code",
   "execution_count": null,
   "metadata": {},
   "outputs": [],
   "source": []
  },
  {
   "cell_type": "markdown",
   "metadata": {},
   "source": [
    "## Making a Model"
   ]
  },
  {
   "cell_type": "markdown",
   "metadata": {},
   "source": [
    "### We are going to train a model to predict the likelyhood of someone being either a Trump or Biden follower based on the other accounts (from the 84 teams) that they follow"
   ]
  },
  {
   "cell_type": "markdown",
   "metadata": {},
   "source": [
    "#### First lets separate our data into a train and test set"
   ]
  },
  {
   "cell_type": "code",
   "execution_count": null,
   "metadata": {},
   "outputs": [],
   "source": [
    "trainX = matrix[25:-25]\n",
    "trainY = targetArray[25:-25]\n",
    "testX = np.concatenate((matrix[:25], matrix[-25:]), axis = 0)\n",
    "testY = np.concatenate((targetArray[:25], targetArray[-25:]), axis = 0)"
   ]
  },
  {
   "cell_type": "markdown",
   "metadata": {},
   "source": [
    "#### Now time to train our model. We have chosen to use BernoulliNB as our model from scikit-learn because it is easy to use and specifically designed for binary/boolean features"
   ]
  },
  {
   "cell_type": "code",
   "execution_count": null,
   "metadata": {},
   "outputs": [],
   "source": [
    "def evaluate(target, prediction):\n",
    "    zipped = zip(target, prediction)\n",
    "    FP = 0\n",
    "    TP = 0\n",
    "    FN = 0\n",
    "    TN = 0\n",
    "    for ans, pred in zipped:\n",
    "        #print(ans, pred)\n",
    "        if ans < pred:\n",
    "            FP += 1\n",
    "        elif ans > pred:\n",
    "            FN += 1\n",
    "        elif ans == 0:\n",
    "            TP += 1\n",
    "        elif ans == 1:\n",
    "            TN += 1\n",
    "        else:\n",
    "            #print(\"error\")\n",
    "            pass\n",
    "    return TP, TN, FP, FN\n",
    "\n",
    "def train(model, trainingMatrix, trainingTargetArray, testMatrix, testTargetArray):\n",
    "    model.fit(trainingMatrix, trainingTargetArray)\n",
    "    prediction = model.predict(testMatrix)\n",
    "    return evaluate(testTargetArray, prediction)"
   ]
  },
  {
   "cell_type": "code",
   "execution_count": null,
   "metadata": {},
   "outputs": [],
   "source": [
    "modelTrain = BernoulliNB()\n",
    "print(\"Evaluated on training data\\n\")\n",
    "TP, TN, FP, FN = train(modelTrain, trainX, trainY, trainX, trainY)\n",
    "print(\"accuracy:\", (TP + TN)/(TP + TN + FP + FN))\n",
    "precision = (TP)/(TP + FP)\n",
    "recall = (TP)/(TP + FN)\n",
    "print(\"precision:\", (TP)/(TP + FP))\n",
    "print(\"recall:\", (TP)/(TP + FN))\n",
    "print(\"F1:\", (2 * precision * recall)/(precision + recall))\n",
    "\n",
    "modelTest = BernoulliNB()\n",
    "print(\"\\n\\nEvaluated on test data\\n\")\n",
    "TP, TN, FP, FN = train(modelTest, trainX, trainY, testX, testY)\n",
    "print(\"accuracy:\", (TP + TN)/(TP + TN + FP + FN))\n",
    "precision = (TP)/(TP + FP)\n",
    "recall = (TP)/(TP + FN)\n",
    "print(\"precision:\", (TP)/(TP + FP))\n",
    "print(\"recall:\", (TP)/(TP + FN))\n",
    "print(\"F1:\", (2 * precision * recall)/(precision + recall))"
   ]
  },
  {
   "cell_type": "markdown",
   "metadata": {},
   "source": [
    "#### Above we can see that our accuracy is lower if we evaluate our model on separated test data. This likely points to the fact that with only 482 data points, our model quickly overfits"
   ]
  },
  {
   "cell_type": "markdown",
   "metadata": {},
   "source": [
    "## Histograms"
   ]
  },
  {
   "cell_type": "markdown",
   "metadata": {},
   "source": [
    "#### "
   ]
  },
  {
   "cell_type": "code",
   "execution_count": null,
   "metadata": {},
   "outputs": [],
   "source": [
    "def createDicts(matrix, targetArray, topTeams):\n",
    "    dictBiden = {}\n",
    "    dictTrump = {}\n",
    "    for index, team in enumerate(topTeams):\n",
    "        listOfTeam, listOfNotTeam, teamTargetArray, notTeamTargetArray = createSubgroups(matrix, targetArray, topTeamsList, team)\n",
    "        countTrump, countBiden = findTrumpBiden(listOfTeam, teamTargetArray)\n",
    "        dictBiden[team] = countBiden\n",
    "        dictTrump[team] = countTrump\n",
    "    return dictBiden, dictTrump\n",
    "\n",
    "BidenDict, TrumpDict = createDicts(matrix, targetArray, topTeamsList)"
   ]
  },
  {
   "cell_type": "code",
   "execution_count": 17,
   "metadata": {},
   "outputs": [
    {
     "ename": "NameError",
     "evalue": "name 'BidenDict' is not defined",
     "output_type": "error",
     "traceback": [
      "\u001b[0;31m---------------------------------------------------------------------------\u001b[0m",
      "\u001b[0;31mNameError\u001b[0m                                 Traceback (most recent call last)",
      "\u001b[0;32m<ipython-input-17-42c0072dbee9>\u001b[0m in \u001b[0;36m<module>\u001b[0;34m\u001b[0m\n\u001b[0;32m----> 1\u001b[0;31m \u001b[0mallGraph\u001b[0m \u001b[0;34m=\u001b[0m \u001b[0mpd\u001b[0m\u001b[0;34m.\u001b[0m\u001b[0mDataFrame\u001b[0m\u001b[0;34m(\u001b[0m\u001b[0mdict\u001b[0m\u001b[0;34m(\u001b[0m\u001b[0mBiden\u001b[0m\u001b[0;34m=\u001b[0m\u001b[0mlist\u001b[0m\u001b[0;34m(\u001b[0m\u001b[0mBidenDict\u001b[0m\u001b[0;34m.\u001b[0m\u001b[0mvalues\u001b[0m\u001b[0;34m(\u001b[0m\u001b[0;34m)\u001b[0m\u001b[0;34m)\u001b[0m\u001b[0;34m,\u001b[0m \u001b[0mTrump\u001b[0m\u001b[0;34m=\u001b[0m\u001b[0mlist\u001b[0m\u001b[0;34m(\u001b[0m\u001b[0mTrumpDict\u001b[0m\u001b[0;34m.\u001b[0m\u001b[0mvalues\u001b[0m\u001b[0;34m(\u001b[0m\u001b[0;34m)\u001b[0m\u001b[0;34m)\u001b[0m\u001b[0;34m)\u001b[0m\u001b[0;34m,\u001b[0m \u001b[0mindex\u001b[0m\u001b[0;34m=\u001b[0m\u001b[0mTrumpDict\u001b[0m\u001b[0;34m.\u001b[0m\u001b[0mkeys\u001b[0m\u001b[0;34m(\u001b[0m\u001b[0;34m)\u001b[0m\u001b[0;34m)\u001b[0m\u001b[0;34m\u001b[0m\u001b[0;34m\u001b[0m\u001b[0m\n\u001b[0m\u001b[1;32m      2\u001b[0m \u001b[0mbothGraph\u001b[0m \u001b[0;34m=\u001b[0m \u001b[0mallGraph\u001b[0m\u001b[0;34m.\u001b[0m\u001b[0mplot\u001b[0m\u001b[0;34m.\u001b[0m\u001b[0mbar\u001b[0m\u001b[0;34m(\u001b[0m\u001b[0mtitle\u001b[0m\u001b[0;34m=\u001b[0m\u001b[0;34m\"# Of Followers for Top 84 Users\"\u001b[0m\u001b[0;34m,\u001b[0m \u001b[0mfontsize\u001b[0m\u001b[0;34m=\u001b[0m\u001b[0;36m5\u001b[0m\u001b[0;34m,\u001b[0m \u001b[0mfigsize\u001b[0m\u001b[0;34m=\u001b[0m\u001b[0;34m(\u001b[0m\u001b[0;36m15\u001b[0m\u001b[0;34m,\u001b[0m\u001b[0;36m8\u001b[0m\u001b[0;34m)\u001b[0m\u001b[0;34m)\u001b[0m\u001b[0;34m\u001b[0m\u001b[0;34m\u001b[0m\u001b[0m\n\u001b[1;32m      3\u001b[0m \u001b[0mbothGraph\u001b[0m\u001b[0;34m.\u001b[0m\u001b[0mtitle\u001b[0m\u001b[0;34m.\u001b[0m\u001b[0mset_size\u001b[0m\u001b[0;34m(\u001b[0m\u001b[0;36m25\u001b[0m\u001b[0;34m)\u001b[0m\u001b[0;34m\u001b[0m\u001b[0;34m\u001b[0m\u001b[0m\n",
      "\u001b[0;31mNameError\u001b[0m: name 'BidenDict' is not defined"
     ]
    }
   ],
   "source": [
    "allGraph = pd.DataFrame(dict(Biden=list(BidenDict.values()), Trump=list(TrumpDict.values())), index=TrumpDict.keys())\n",
    "bothGraph = allGraph.plot.bar(title=\"# Of Followers for Top 84 Users\", fontsize=5, figsize=(15,8))\n",
    "bothGraph.title.set_size(25)"
   ]
  },
  {
   "cell_type": "code",
   "execution_count": null,
   "metadata": {},
   "outputs": [],
   "source": []
  }
 ],
 "metadata": {
  "kernelspec": {
   "display_name": "Python 3",
   "language": "python",
   "name": "python3"
  },
  "language_info": {
   "codemirror_mode": {
    "name": "ipython",
    "version": 3
   },
   "file_extension": ".py",
   "mimetype": "text/x-python",
   "name": "python",
   "nbconvert_exporter": "python",
   "pygments_lexer": "ipython3",
   "version": "3.8.3"
  }
 },
 "nbformat": 4,
 "nbformat_minor": 4
}
