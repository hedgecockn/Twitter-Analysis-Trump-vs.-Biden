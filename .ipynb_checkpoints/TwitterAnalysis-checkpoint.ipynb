{
 "cells": [
  {
   "cell_type": "markdown",
   "metadata": {},
   "source": [
    "# Analyzing Trump and Biden Followers on Twitter"
   ]
  },
  {
   "cell_type": "code",
   "execution_count": 2,
   "metadata": {},
   "outputs": [],
   "source": [
    "import numpy as np"
   ]
  },
  {
   "cell_type": "markdown",
   "metadata": {},
   "source": [
    "## Model"
   ]
  },
  {
   "cell_type": "markdown",
   "metadata": {},
   "source": [
    "#### First we need to import our array that we made from scraping twitter data with Twint"
   ]
  },
  {
   "cell_type": "code",
   "execution_count": 6,
   "metadata": {},
   "outputs": [],
   "source": [
    "TandBFollowers = np.load('matrix.npy')\n",
    "bothMatrix = np.load('bothMatrix.npy')\n",
    "targetArray = np.load('tagetArray.npy')"
   ]
  },
  {
   "cell_type": "markdown",
   "metadata": {},
   "source": [
    "#### Now splitting the data into test and train"
   ]
  },
  {
   "cell_type": "code",
   "execution_count": null,
   "metadata": {},
   "outputs": [],
   "source": []
  },
  {
   "cell_type": "code",
   "execution_count": null,
   "metadata": {},
   "outputs": [],
   "source": []
  },
  {
   "cell_type": "code",
   "execution_count": null,
   "metadata": {},
   "outputs": [],
   "source": [
    "from sklearn.naive_bayes import BernoulliNB\n",
    "\n",
    "def evaluate(target, prediction):\n",
    "    zipped = zip(target, prediction)\n",
    "    FP = 0\n",
    "    TP = 0\n",
    "    FN = 0\n",
    "    TN = 0\n",
    "    for ans, pred in zipped:\n",
    "        if ans < pred:\n",
    "            FP += 1\n",
    "        elif ans > pred:\n",
    "            FN += 1\n",
    "        elif ans == 0:\n",
    "            TP += 1\n",
    "        elif ans == 1:\n",
    "            TN += 1\n",
    "        else:\n",
    "            #print(\"error\")\n",
    "            pass\n",
    "            \n",
    "    return TP, TN, FP, FN\n",
    "\n",
    "\n",
    "def train(trainingDataX, trainingDataY, testDataX, testDataY):\n",
    "    model = BernoulliNB()\n",
    "    model.fit(trainingDataX, trainingDataY)\n",
    "\n",
    "    prediction = model.predict(testDataX)\n",
    "\n",
    "    return evaluate(testDataY, prediction)"
   ]
  },
  {
   "cell_type": "markdown",
   "metadata": {},
   "source": [
    "## Entropies"
   ]
  },
  {
   "cell_type": "markdown",
   "metadata": {},
   "source": [
    "## Histograms"
   ]
  },
  {
   "cell_type": "code",
   "execution_count": null,
   "metadata": {},
   "outputs": [],
   "source": []
  }
 ],
 "metadata": {
  "kernelspec": {
   "display_name": "Python 3",
   "language": "python",
   "name": "python3"
  },
  "language_info": {
   "codemirror_mode": {
    "name": "ipython",
    "version": 3
   },
   "file_extension": ".py",
   "mimetype": "text/x-python",
   "name": "python",
   "nbconvert_exporter": "python",
   "pygments_lexer": "ipython3",
   "version": "3.8.3"
  }
 },
 "nbformat": 4,
 "nbformat_minor": 4
}
