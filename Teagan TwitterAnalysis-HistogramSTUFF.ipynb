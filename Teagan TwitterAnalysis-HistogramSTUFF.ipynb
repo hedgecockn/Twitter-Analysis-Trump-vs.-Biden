{
 "cells": [
  {
   "cell_type": "code",
   "execution_count": 3,
   "metadata": {},
   "outputs": [],
   "source": [
    "from tqdm import tqdm\n",
    "import os\n",
    "import twint\n",
    "import pandas as pd\n",
    "import numpy as np\n",
    "from collections import defaultdict\n",
    "from collections import Counter\n",
    "import csv\n",
    "import math\n",
    "from math import log2\n",
    "import matplotlib.pyplot as plt"
   ]
  },
  {
   "cell_type": "code",
   "execution_count": null,
   "metadata": {},
   "outputs": [],
   "source": []
  },
  {
   "cell_type": "markdown",
   "metadata": {},
   "source": [
    "# Model"
   ]
  },
  {
   "cell_type": "code",
   "execution_count": 4,
   "metadata": {},
   "outputs": [],
   "source": [
    "matrix = np.load('matrix.npy')\n",
    "bothMatrix = np.load('bothMatrix.npy')\n",
    "targetArray = np.load('tagetArray.npy')\n",
    "topTeamsListMessy = np.load('topTeamsList.npy')\n",
    "\n",
    "def cleanTeamsList(teamsList):\n",
    "    cleanList = []\n",
    "    for user in teamsList:\n",
    "        cleanUser = user[2:-3]\n",
    "        cleanList.append(cleanUser)\n",
    "    return cleanList\n",
    "\n",
    "topTeamsList = cleanTeamsList(topTeamsListMessy)\n"
   ]
  },
  {
   "cell_type": "code",
   "execution_count": 5,
   "metadata": {},
   "outputs": [],
   "source": [
    "from sklearn.naive_bayes import BernoulliNB\n",
    "\n",
    "def evaluate(target, prediction):\n",
    "    zipped = zip(target, prediction)\n",
    "    FP = 0\n",
    "    TP = 0\n",
    "    FN = 0\n",
    "    TN = 0\n",
    "    for ans, pred in zipped:\n",
    "        #print(ans, pred)\n",
    "        if ans < pred:\n",
    "            FP += 1\n",
    "        elif ans > pred:\n",
    "            FN += 1\n",
    "        elif ans == 0:\n",
    "            TP += 1\n",
    "        elif ans == 1:\n",
    "            TN += 1\n",
    "        else:\n",
    "            #print(\"error\")\n",
    "            pass\n",
    "            \n",
    "    return TP, TN, FP, FN\n",
    "\n",
    "\n",
    "def train(trainingMatrix, trainingTargetArray, testMatrix, testTargetArray):\n",
    "    model = BernoulliNB()\n",
    "    model.fit(trainingMatrix, trainingTargetArray)\n",
    "\n",
    "    prediction = model.predict(testMatrix)\n",
    "\n",
    "    return evaluate(testTargetArray, prediction)\n",
    "\n",
    "#evaluate(targetArray, matrix)"
   ]
  },
  {
   "cell_type": "code",
   "execution_count": 6,
   "metadata": {},
   "outputs": [],
   "source": [
    "trainX = matrix[25:-25]\n",
    "trainY = targetArray[25:-25]\n",
    "testX = np.concatenate((matrix[:25], matrix[-25:]), axis = 0)\n",
    "testY = np.concatenate((targetArray[:25], targetArray[-25:]), axis = 0)"
   ]
  },
  {
   "cell_type": "code",
   "execution_count": 7,
   "metadata": {},
   "outputs": [],
   "source": [
    "TP, TN, FP, FN = train(trainX, trainY, testX, testY)"
   ]
  },
  {
   "cell_type": "code",
   "execution_count": 8,
   "metadata": {},
   "outputs": [
    {
     "name": "stdout",
     "output_type": "stream",
     "text": [
      "0.6799999999999999\n"
     ]
    }
   ],
   "source": [
    "accuracy = 1 - ((FP+FN) / (TP+TN+FP+FN))\n",
    "print(accuracy)"
   ]
  },
  {
   "cell_type": "markdown",
   "metadata": {},
   "source": [
    "# Entropies"
   ]
  },
  {
   "cell_type": "code",
   "execution_count": 9,
   "metadata": {},
   "outputs": [
    {
     "name": "stdout",
     "output_type": "stream",
     "text": [
      "KAMALAHARRIS\n",
      "Length of team matrix:  130\n",
      "Length of NOT team matrix:  312\n"
     ]
    }
   ],
   "source": [
    "def createSubgroups(matrix, targetArray, teamsList, teamSpec):\n",
    "    listOfTeam = []\n",
    "    listOfNotTeam = []\n",
    "    teamTargetArray = []\n",
    "    notTeamTargetArray = []\n",
    "    \n",
    "    for index, team in enumerate(teamsList):\n",
    "        if team == teamSpec:\n",
    "            teamIndex = index\n",
    "    for index2, person in enumerate(matrix):\n",
    "        if person[teamIndex] == 1:\n",
    "            listOfTeam.append(person)\n",
    "            if int(targetArray[index2]) == 1:\n",
    "                teamTargetArray.append(1)\n",
    "            else:\n",
    "                teamTargetArray.append(0)\n",
    "        else:\n",
    "            listOfNotTeam.append(person)\n",
    "            if int(targetArray[index2]) == 1:\n",
    "                notTeamTargetArray.append(1)\n",
    "            else:\n",
    "                notTeamTargetArray.append(0)\n",
    "    return listOfTeam, listOfNotTeam, teamTargetArray, notTeamTargetArray\n",
    "\n",
    "listOfTeam, listOfNotTeam, teamTargetArray, notTeamTargetArray = createSubgroups(matrix, targetArray, topTeamsList, 'KamalaHarris')\n",
    "\n",
    "print(\"KAMALAHARRIS\")\n",
    "print(\"Length of team matrix: \", len(listOfTeam))\n",
    "print(\"Length of NOT team matrix: \", len(listOfNotTeam))\n"
   ]
  },
  {
   "cell_type": "code",
   "execution_count": 10,
   "metadata": {},
   "outputs": [
    {
     "name": "stdout",
     "output_type": "stream",
     "text": [
      "POTUS Biden:  101\n",
      "POTUS Trump:  29\n"
     ]
    }
   ],
   "source": [
    "def findTrumpBiden(group, targetArray):\n",
    "    countTrump = 0\n",
    "    countBiden = 0\n",
    "    for index, person in enumerate(group):\n",
    "        if targetArray[index] == 1:\n",
    "            countTrump += 1\n",
    "        else:\n",
    "            countBiden += 1\n",
    "    return countTrump, countBiden\n",
    "countTrump, countBiden = findTrumpBiden(listOfTeam, teamTargetArray)\n",
    "print(\"POTUS Biden: \", countBiden)\n",
    "print(\"POTUS Trump: \", countTrump)"
   ]
  },
  {
   "cell_type": "code",
   "execution_count": 11,
   "metadata": {},
   "outputs": [
    {
     "name": "stdout",
     "output_type": "stream",
     "text": [
      "Trump: defaultdict(<class 'int'>, {'POTUS': 68, 'BarackObama': 48, 'VP': 35, 'WhiteHouse': 35, 'FLOTUS': 29, 'KamalaHarris': 29, 'DonaldJTrumpJr': 27, 'IvankaTrump': 25, 'CNN': 24, 'cnnbrk': 23, 'Mike_Pence': 22, 'NASA': 21, 'HillaryClinton': 20, 'PressSec': 20, 'SidneyPowell1': 20, 'elonmusk': 19, 'nytimes': 18, 'TheEllenShow': 18, 'seanhannity': 18, 'kayleighmcenany': 17, 'jimmyfallon': 17, 'washingtonpost': 15, 'MichelleObama': 15, 'SenKamalaHarris': 14, 'BBCBreaking': 14, 'RudyGiuliani': 14, 'TrumpWarRoom': 13, 'AOC': 13, 'KimKardashian': 13, 'BillClinton': 13, 'KingJames': 13, 'TuckerCarlson': 13, 'BBCWorld': 13, 'BernieSanders': 13, 'LLinWood': 12, 'BillGates': 12, 'SpeakerPelosi': 12, 'dbongino': 12, 'ABC': 11, 'Twitter': 11, 'ewarren': 11, 'DrBiden': 11, 'espn': 11, 'IngrahamAngle': 11, 'NFL': 11, 'YouTube': 10, 'GOP': 10, 'JennaEllisEsq': 10, 'marklevinshow': 10, 'tedcruz': 9, 'NatGeo': 9, 'ArianaGrande': 9, 'StephenAtHome': 9, 'AP': 9, 'SportsCenter': 9, 'JudgeJeanine': 9, 'cnni': 9, 'Reuters': 9, 'rihanna': 9, 'KylieJenner': 4, 'ladygaga': 5, 'Cristiano': 6, 'premierleague': 7, 'charlidamelio': 3, 'FCBarcelona': 3, 'ChampionsLeague': 7, 'NICKIMINAJ': 1, 'katyperry': 7, 'justinbieber': 5, 'Oprah': 4, 'SenSanders': 9, 'Drake': 3, 'MileyCyrus': 6, 'SenWarren': 9, 'khloekardashian': 3, 'dixiedamelio': 3, 'MeekMill': 4, 'selenagomez': 2, 'whoisaddison': 2, 'ManUtd': 7, 'EmmanuelMacron': 1, 'kourtneykardash': 2, 'ChelseaFC': 5, '50cent': 2})\n",
      "\n",
      "Biden defaultdict(<class 'int'>, {'POTUS': 38, 'BarackObama': 99, 'VP': 10, 'WhiteHouse': 25, 'FLOTUS': 14, 'KamalaHarris': 101, 'DonaldJTrumpJr': 5, 'IvankaTrump': 7, 'CNN': 38, 'cnnbrk': 34, 'Mike_Pence': 6, 'NASA': 28, 'HillaryClinton': 38, 'PressSec': 3, 'SidneyPowell1': 0, 'elonmusk': 28, 'nytimes': 33, 'TheEllenShow': 24, 'seanhannity': 6, 'kayleighmcenany': 1, 'jimmyfallon': 18, 'washingtonpost': 19, 'MichelleObama': 49, 'SenKamalaHarris': 29, 'BBCBreaking': 28, 'RudyGiuliani': 1, 'TrumpWarRoom': 0, 'AOC': 38, 'KimKardashian': 32, 'BillClinton': 22, 'KingJames': 23, 'TuckerCarlson': 5, 'BBCWorld': 22, 'BernieSanders': 22, 'LLinWood': 0, 'BillGates': 15, 'SpeakerPelosi': 19, 'dbongino': 5, 'ABC': 10, 'Twitter': 12, 'ewarren': 15, 'DrBiden': 13, 'espn': 10, 'IngrahamAngle': 4, 'NFL': 14, 'YouTube': 13, 'GOP': 2, 'JennaEllisEsq': 1, 'marklevinshow': 3, 'tedcruz': 2, 'NatGeo': 10, 'ArianaGrande': 42, 'StephenAtHome': 10, 'AP': 13, 'SportsCenter': 10, 'JudgeJeanine': 3, 'cnni': 15, 'Reuters': 13, 'rihanna': 36, 'KylieJenner': 24, 'ladygaga': 24, 'Cristiano': 23, 'premierleague': 20, 'charlidamelio': 18, 'FCBarcelona': 18, 'ChampionsLeague': 18, 'NICKIMINAJ': 18, 'katyperry': 18, 'justinbieber': 17, 'Oprah': 17, 'SenSanders': 17, 'Drake': 16, 'MileyCyrus': 16, 'SenWarren': 16, 'khloekardashian': 16, 'dixiedamelio': 15, 'MeekMill': 15, 'selenagomez': 15, 'whoisaddison': 14, 'ManUtd': 14, 'EmmanuelMacron': 14, 'kourtneykardash': 14, 'ChelseaFC': 13, '50cent': 13})\n"
     ]
    }
   ],
   "source": [
    "def createDict(matrix, targetArray, topTeams):\n",
    "    dictBiden = defaultdict(int)\n",
    "    dictTrump = defaultdict(int)\n",
    "    for index, team in enumerate(topTeams):\n",
    "        listOfTeam, listOfNotTeam, teamTargetArray, notTeamTargetArray = createSubgroups(matrix, targetArray, topTeamsList, team)\n",
    "        countTrump, countBiden = findTrumpBiden(listOfTeam, teamTargetArray)\n",
    "        dictBiden[team] = countBiden\n",
    "        dictTrump[team] = countTrump\n",
    "    return dictBiden, dictTrump\n",
    "\n",
    "BidenDict, TrumpDict = createDict(matrix, targetArray, topTeamsList)\n",
    "print(\"Trump:\", TrumpDict)\n",
    "print(\"\\nBiden\", BidenDict)"
   ]
  },
  {
   "cell_type": "code",
   "execution_count": 12,
   "metadata": {},
   "outputs": [
    {
     "name": "stdout",
     "output_type": "stream",
     "text": [
      "Trump: [('NICKIMINAJ', 1), ('EmmanuelMacron', 1), ('selenagomez', 2), ('whoisaddison', 2), ('kourtneykardash', 2), ('50cent', 2), ('charlidamelio', 3), ('FCBarcelona', 3), ('Drake', 3), ('khloekardashian', 3), ('dixiedamelio', 3), ('KylieJenner', 4), ('Oprah', 4), ('MeekMill', 4), ('ladygaga', 5), ('justinbieber', 5), ('ChelseaFC', 5), ('Cristiano', 6), ('MileyCyrus', 6), ('premierleague', 7), ('ChampionsLeague', 7), ('katyperry', 7), ('ManUtd', 7), ('tedcruz', 9), ('NatGeo', 9), ('ArianaGrande', 9), ('StephenAtHome', 9), ('AP', 9), ('SportsCenter', 9), ('JudgeJeanine', 9), ('cnni', 9), ('Reuters', 9), ('rihanna', 9), ('SenSanders', 9), ('SenWarren', 9), ('YouTube', 10), ('GOP', 10), ('JennaEllisEsq', 10), ('marklevinshow', 10), ('ABC', 11), ('Twitter', 11), ('ewarren', 11), ('DrBiden', 11), ('espn', 11), ('IngrahamAngle', 11), ('NFL', 11), ('LLinWood', 12), ('BillGates', 12), ('SpeakerPelosi', 12), ('dbongino', 12), ('TrumpWarRoom', 13), ('AOC', 13), ('KimKardashian', 13), ('BillClinton', 13), ('KingJames', 13), ('TuckerCarlson', 13), ('BBCWorld', 13), ('BernieSanders', 13), ('SenKamalaHarris', 14), ('BBCBreaking', 14), ('RudyGiuliani', 14), ('washingtonpost', 15), ('MichelleObama', 15), ('kayleighmcenany', 17), ('jimmyfallon', 17), ('nytimes', 18), ('TheEllenShow', 18), ('seanhannity', 18), ('elonmusk', 19), ('HillaryClinton', 20), ('PressSec', 20), ('SidneyPowell1', 20), ('NASA', 21), ('Mike_Pence', 22), ('cnnbrk', 23), ('CNN', 24), ('IvankaTrump', 25), ('DonaldJTrumpJr', 27), ('FLOTUS', 29), ('KamalaHarris', 29), ('VP', 35), ('WhiteHouse', 35), ('BarackObama', 48), ('POTUS', 68)]\n",
      "\n",
      "Biden [('SidneyPowell1', 0), ('TrumpWarRoom', 0), ('LLinWood', 0), ('kayleighmcenany', 1), ('RudyGiuliani', 1), ('JennaEllisEsq', 1), ('GOP', 2), ('tedcruz', 2), ('PressSec', 3), ('marklevinshow', 3), ('JudgeJeanine', 3), ('IngrahamAngle', 4), ('DonaldJTrumpJr', 5), ('TuckerCarlson', 5), ('dbongino', 5), ('Mike_Pence', 6), ('seanhannity', 6), ('IvankaTrump', 7), ('VP', 10), ('ABC', 10), ('espn', 10), ('NatGeo', 10), ('StephenAtHome', 10), ('SportsCenter', 10), ('Twitter', 12), ('DrBiden', 13), ('YouTube', 13), ('AP', 13), ('Reuters', 13), ('ChelseaFC', 13), ('50cent', 13), ('FLOTUS', 14), ('NFL', 14), ('whoisaddison', 14), ('ManUtd', 14), ('EmmanuelMacron', 14), ('kourtneykardash', 14), ('BillGates', 15), ('ewarren', 15), ('cnni', 15), ('dixiedamelio', 15), ('MeekMill', 15), ('selenagomez', 15), ('Drake', 16), ('MileyCyrus', 16), ('SenWarren', 16), ('khloekardashian', 16), ('justinbieber', 17), ('Oprah', 17), ('SenSanders', 17), ('jimmyfallon', 18), ('charlidamelio', 18), ('FCBarcelona', 18), ('ChampionsLeague', 18), ('NICKIMINAJ', 18), ('katyperry', 18), ('washingtonpost', 19), ('SpeakerPelosi', 19), ('premierleague', 20), ('BillClinton', 22), ('BBCWorld', 22), ('BernieSanders', 22), ('KingJames', 23), ('Cristiano', 23), ('TheEllenShow', 24), ('KylieJenner', 24), ('ladygaga', 24), ('WhiteHouse', 25), ('NASA', 28), ('elonmusk', 28), ('BBCBreaking', 28), ('SenKamalaHarris', 29), ('KimKardashian', 32), ('nytimes', 33), ('cnnbrk', 34), ('rihanna', 36), ('POTUS', 38), ('CNN', 38), ('HillaryClinton', 38), ('AOC', 38), ('ArianaGrande', 42), ('MichelleObama', 49), ('BarackObama', 99), ('KamalaHarris', 101)]\n"
     ]
    }
   ],
   "source": [
    "sortedTrumpDict = sorted(TrumpDict.items(), key = lambda x: x[1], reverse = False)\n",
    "sortedBidenDict = sorted(BidenDict.items(), key = lambda x: x[1], reverse = False)\n",
    "\n",
    "print(\"Trump:\", sortedTrumpDict)\n",
    "print(\"\\nBiden\", sortedBidenDict)"
   ]
  },
  {
   "cell_type": "code",
   "execution_count": 13,
   "metadata": {},
   "outputs": [
    {
     "data": {
      "text/plain": [
       "<BarContainer object of 84 artists>"
      ]
     },
     "execution_count": 13,
     "metadata": {},
     "output_type": "execute_result"
    },
    {
     "data": {
      "image/png": "[encoded data removed]",
      "text/plain": [
       "<Figure size 432x288 with 1 Axes>"
      ]
     },
     "metadata": {
      "needs_background": "light"
     },
     "output_type": "display_data"
    }
   ],
   "source": [
    "plt.bar(BidenDict.keys(), BidenDict.values(), tick_label = None)\n",
    "plt.bar(TrumpDict.keys(), TrumpDict.values(), tick_label = None)"
   ]
  },
  {
   "cell_type": "code",
   "execution_count": 14,
   "metadata": {},
   "outputs": [
    {
     "name": "stdout",
     "output_type": "stream",
     "text": [
      "[('KamalaHarris', 101), ('BarackObama', 99), ('MichelleObama', 49), ('ArianaGrande', 42), ('POTUS', 38), ('CNN', 38), ('HillaryClinton', 38), ('AOC', 38), ('rihanna', 36), ('cnnbrk', 34)]\n",
      "\n",
      "[('POTUS', 68), ('BarackObama', 48), ('VP', 35), ('WhiteHouse', 35), ('FLOTUS', 29), ('KamalaHarris', 29), ('DonaldJTrumpJr', 27), ('IvankaTrump', 25), ('CNN', 24), ('cnnbrk', 23)]\n"
     ]
    }
   ],
   "source": [
    "countedBidenDict = Counter(BidenDict)\n",
    "topTenBiden = countedBidenDict.most_common(10)\n",
    "bottomTenBiden = countedBidenDict.most_common()[-10:-1]\n",
    "print(topTenBiden)\n",
    "print()\n",
    "countedTrumpDict = Counter(TrumpDict)\n",
    "topTenTrump = countedTrumpDict.most_common(10)\n",
    "bottomTenTrump = countedBidenDict.most_common()[-10:-1]\n",
    "print(topTenTrump)"
   ]
  },
  {
   "cell_type": "code",
   "execution_count": 15,
   "metadata": {},
   "outputs": [
    {
     "name": "stdout",
     "output_type": "stream",
     "text": [
      "{'KamalaHarris': 29, 'BarackObama': 48, 'MichelleObama': 15, 'ArianaGrande': 9, 'POTUS': 68, 'CNN': 24, 'HillaryClinton': 20, 'AOC': 13, 'rihanna': 9, 'cnnbrk': 23}\n"
     ]
    }
   ],
   "source": [
    "topTenBiden = dict(topTenBiden)\n",
    "topTenTrump = dict(topTenTrump)\n",
    "def allignTopTenTrump(topTenBiden, topTenTrump):\n",
    "    trumperDict =  {}\n",
    "    for key in topTenBiden.keys():\n",
    "        listOfTeam, listOfNotTeam, teamTargetArray, notTeamTargetArray = createSubgroups(matrix, targetArray, topTeamsList, key)\n",
    "        countTrump, countBiden = findTrumpBiden(listOfTeam, teamTargetArray)\n",
    "        trumperDict[key] = countTrump\n",
    "    return trumperDict\n",
    "\n",
    "ourTrumperDict = allignTopTenTrump(topTenBiden, topTenTrump)\n",
    "print(ourTrumperDict)"
   ]
  },
  {
   "cell_type": "code",
   "execution_count": 16,
   "metadata": {},
   "outputs": [
    {
     "name": "stdout",
     "output_type": "stream",
     "text": [
      "{'POTUS': 38, 'BarackObama': 99, 'VP': 10, 'WhiteHouse': 25, 'FLOTUS': 14, 'KamalaHarris': 101, 'DonaldJTrumpJr': 5, 'IvankaTrump': 7, 'CNN': 38, 'cnnbrk': 34}\n"
     ]
    }
   ],
   "source": [
    "def allignTopTenBiden(topTenBiden, topTenTrump):\n",
    "    BidenDicked =  {}\n",
    "    for key in topTenTrump.keys():\n",
    "        listOfTeam, listOfNotTeam, teamTargetArray, notTeamTargetArray = createSubgroups(matrix, targetArray, topTeamsList, key)\n",
    "        countTrump, countBiden = findTrumpBiden(listOfTeam, teamTargetArray)\n",
    "        BidenDicked[key] = countBiden\n",
    "    return BidenDicked\n",
    "\n",
    "ourBidenDict = allignTopTenBiden(topTenBiden, topTenTrump)\n",
    "print(ourBidenDict)"
   ]
  },
  {
   "cell_type": "code",
   "execution_count": 17,
   "metadata": {},
   "outputs": [
    {
     "data": {
      "image/png": "[encoded data removed]",
      "text/plain": [
       "<Figure size 720x360 with 1 Axes>"
      ]
     },
     "metadata": {
      "needs_background": "light"
     },
     "output_type": "display_data"
    }
   ],
   "source": [
    "N = 10\n",
    "topTenBiden = dict(topTenBiden)\n",
    "topTenTrump = dict(topTenTrump)\n",
    "#r1 = np.arange(len(topTenBiden.keys()))\n",
    "#r2 = [x + width for x in r1]\n",
    "\n",
    "plt.figure(figsize=(10,5))\n",
    "width = 0.3\n",
    "width2 = 0.15\n",
    "#y_pos=np.arange(len(topTenTrump.values()))\n",
    "plt.bar( topTenBiden.keys(), topTenBiden.values(), width)\n",
    "plt.bar(ourTrumperDict.keys(), ourTrumperDict.values(), width2)\n",
    "plt.xticks(rotation = 90)\n",
    "plt.show()"
   ]
  },
  {
   "cell_type": "code",
   "execution_count": 52,
   "metadata": {},
   "outputs": [
    {
     "ename": "ValueError",
     "evalue": "Shape of passed values is (10, 2), indices imply (2, 2)",
     "output_type": "error",
     "traceback": [
      "\u001b[0;31m---------------------------------------------------------------------------\u001b[0m",
      "\u001b[0;31mValueError\u001b[0m                                Traceback (most recent call last)",
      "\u001b[0;32m<ipython-input-52-68df4d5ac883>\u001b[0m in \u001b[0;36m<module>\u001b[0;34m\u001b[0m\n\u001b[0;32m----> 1\u001b[0;31m \u001b[0mtopTenBiden\u001b[0m \u001b[0;34m=\u001b[0m \u001b[0mpd\u001b[0m\u001b[0;34m.\u001b[0m\u001b[0mDataFrame\u001b[0m\u001b[0;34m(\u001b[0m\u001b[0mdict\u001b[0m\u001b[0;34m(\u001b[0m\u001b[0mBiden\u001b[0m\u001b[0;34m=\u001b[0m\u001b[0mlist\u001b[0m\u001b[0;34m(\u001b[0m\u001b[0mdict\u001b[0m\u001b[0;34m(\u001b[0m\u001b[0mtopTenBiden\u001b[0m\u001b[0;34m)\u001b[0m\u001b[0;34m.\u001b[0m\u001b[0mvalues\u001b[0m\u001b[0;34m(\u001b[0m\u001b[0;34m)\u001b[0m\u001b[0;34m)\u001b[0m\u001b[0;34m,\u001b[0m \u001b[0mTrump\u001b[0m\u001b[0;34m=\u001b[0m\u001b[0mlist\u001b[0m\u001b[0;34m(\u001b[0m\u001b[0mdict\u001b[0m\u001b[0;34m(\u001b[0m\u001b[0mourTrumperDict\u001b[0m\u001b[0;34m)\u001b[0m\u001b[0;34m.\u001b[0m\u001b[0mvalues\u001b[0m\u001b[0;34m(\u001b[0m\u001b[0;34m)\u001b[0m\u001b[0;34m)\u001b[0m\u001b[0;34m)\u001b[0m\u001b[0;34m,\u001b[0m \u001b[0mindex\u001b[0m\u001b[0;34m=\u001b[0m\u001b[0mtopTenBiden\u001b[0m\u001b[0;34m.\u001b[0m\u001b[0mkeys\u001b[0m\u001b[0;34m(\u001b[0m\u001b[0;34m)\u001b[0m\u001b[0;34m)\u001b[0m\u001b[0;34m\u001b[0m\u001b[0;34m\u001b[0m\u001b[0m\n\u001b[0m\u001b[1;32m      2\u001b[0m \u001b[0mbidenGraph\u001b[0m \u001b[0;34m=\u001b[0m \u001b[0mtopTenBiden\u001b[0m\u001b[0;34m.\u001b[0m\u001b[0mplot\u001b[0m\u001b[0;34m.\u001b[0m\u001b[0mbar\u001b[0m\u001b[0;34m(\u001b[0m\u001b[0mtitle\u001b[0m\u001b[0;34m=\u001b[0m\u001b[0;34m\"Biden\"\u001b[0m\u001b[0;34m)\u001b[0m\u001b[0;34m\u001b[0m\u001b[0;34m\u001b[0m\u001b[0m\n\u001b[1;32m      3\u001b[0m \u001b[0;34m\u001b[0m\u001b[0m\n\u001b[1;32m      4\u001b[0m \u001b[0;31m#topTenTrump = pd.DataFrame(dict(Biden=list(dict(ourBidenDict).values()), Trump=list(dict(topTenTrump).values()), index=topTenTrump.keys()))\u001b[0m\u001b[0;34m\u001b[0m\u001b[0;34m\u001b[0m\u001b[0;34m\u001b[0m\u001b[0m\n\u001b[1;32m      5\u001b[0m \u001b[0;31m#trumpGraph = topTenTrump.plot.bar(title=\"Trump\")\u001b[0m\u001b[0;34m\u001b[0m\u001b[0;34m\u001b[0m\u001b[0;34m\u001b[0m\u001b[0m\n",
      "\u001b[0;32m/Library/Frameworks/Python.framework/Versions/3.8/lib/python3.8/site-packages/pandas/core/frame.py\u001b[0m in \u001b[0;36m__init__\u001b[0;34m(self, data, index, columns, dtype, copy)\u001b[0m\n\u001b[1;32m    466\u001b[0m \u001b[0;34m\u001b[0m\u001b[0m\n\u001b[1;32m    467\u001b[0m         \u001b[0;32melif\u001b[0m \u001b[0misinstance\u001b[0m\u001b[0;34m(\u001b[0m\u001b[0mdata\u001b[0m\u001b[0;34m,\u001b[0m \u001b[0mdict\u001b[0m\u001b[0;34m)\u001b[0m\u001b[0;34m:\u001b[0m\u001b[0;34m\u001b[0m\u001b[0;34m\u001b[0m\u001b[0m\n\u001b[0;32m--> 468\u001b[0;31m             \u001b[0mmgr\u001b[0m \u001b[0;34m=\u001b[0m \u001b[0minit_dict\u001b[0m\u001b[0;34m(\u001b[0m\u001b[0mdata\u001b[0m\u001b[0;34m,\u001b[0m \u001b[0mindex\u001b[0m\u001b[0;34m,\u001b[0m \u001b[0mcolumns\u001b[0m\u001b[0;34m,\u001b[0m \u001b[0mdtype\u001b[0m\u001b[0;34m=\u001b[0m\u001b[0mdtype\u001b[0m\u001b[0;34m)\u001b[0m\u001b[0;34m\u001b[0m\u001b[0;34m\u001b[0m\u001b[0m\n\u001b[0m\u001b[1;32m    469\u001b[0m         \u001b[0;32melif\u001b[0m \u001b[0misinstance\u001b[0m\u001b[0;34m(\u001b[0m\u001b[0mdata\u001b[0m\u001b[0;34m,\u001b[0m \u001b[0mma\u001b[0m\u001b[0;34m.\u001b[0m\u001b[0mMaskedArray\u001b[0m\u001b[0;34m)\u001b[0m\u001b[0;34m:\u001b[0m\u001b[0;34m\u001b[0m\u001b[0;34m\u001b[0m\u001b[0m\n\u001b[1;32m    470\u001b[0m             \u001b[0;32mimport\u001b[0m \u001b[0mnumpy\u001b[0m\u001b[0;34m.\u001b[0m\u001b[0mma\u001b[0m\u001b[0;34m.\u001b[0m\u001b[0mmrecords\u001b[0m \u001b[0;32mas\u001b[0m \u001b[0mmrecords\u001b[0m\u001b[0;34m\u001b[0m\u001b[0;34m\u001b[0m\u001b[0m\n",
      "\u001b[0;32m/Library/Frameworks/Python.framework/Versions/3.8/lib/python3.8/site-packages/pandas/core/internals/construction.py\u001b[0m in \u001b[0;36minit_dict\u001b[0;34m(data, index, columns, dtype)\u001b[0m\n\u001b[1;32m    281\u001b[0m             \u001b[0marr\u001b[0m \u001b[0;32mif\u001b[0m \u001b[0;32mnot\u001b[0m \u001b[0mis_datetime64tz_dtype\u001b[0m\u001b[0;34m(\u001b[0m\u001b[0marr\u001b[0m\u001b[0;34m)\u001b[0m \u001b[0;32melse\u001b[0m \u001b[0marr\u001b[0m\u001b[0;34m.\u001b[0m\u001b[0mcopy\u001b[0m\u001b[0;34m(\u001b[0m\u001b[0;34m)\u001b[0m \u001b[0;32mfor\u001b[0m \u001b[0marr\u001b[0m \u001b[0;32min\u001b[0m \u001b[0marrays\u001b[0m\u001b[0;34m\u001b[0m\u001b[0;34m\u001b[0m\u001b[0m\n\u001b[1;32m    282\u001b[0m         ]\n\u001b[0;32m--> 283\u001b[0;31m     \u001b[0;32mreturn\u001b[0m \u001b[0marrays_to_mgr\u001b[0m\u001b[0;34m(\u001b[0m\u001b[0marrays\u001b[0m\u001b[0;34m,\u001b[0m \u001b[0mdata_names\u001b[0m\u001b[0;34m,\u001b[0m \u001b[0mindex\u001b[0m\u001b[0;34m,\u001b[0m \u001b[0mcolumns\u001b[0m\u001b[0;34m,\u001b[0m \u001b[0mdtype\u001b[0m\u001b[0;34m=\u001b[0m\u001b[0mdtype\u001b[0m\u001b[0;34m)\u001b[0m\u001b[0;34m\u001b[0m\u001b[0;34m\u001b[0m\u001b[0m\n\u001b[0m\u001b[1;32m    284\u001b[0m \u001b[0;34m\u001b[0m\u001b[0m\n\u001b[1;32m    285\u001b[0m \u001b[0;34m\u001b[0m\u001b[0m\n",
      "\u001b[0;32m/Library/Frameworks/Python.framework/Versions/3.8/lib/python3.8/site-packages/pandas/core/internals/construction.py\u001b[0m in \u001b[0;36marrays_to_mgr\u001b[0;34m(arrays, arr_names, index, columns, dtype, verify_integrity)\u001b[0m\n\u001b[1;32m     91\u001b[0m     \u001b[0maxes\u001b[0m \u001b[0;34m=\u001b[0m \u001b[0;34m[\u001b[0m\u001b[0mcolumns\u001b[0m\u001b[0;34m,\u001b[0m \u001b[0mindex\u001b[0m\u001b[0;34m]\u001b[0m\u001b[0;34m\u001b[0m\u001b[0;34m\u001b[0m\u001b[0m\n\u001b[1;32m     92\u001b[0m \u001b[0;34m\u001b[0m\u001b[0m\n\u001b[0;32m---> 93\u001b[0;31m     \u001b[0;32mreturn\u001b[0m \u001b[0mcreate_block_manager_from_arrays\u001b[0m\u001b[0;34m(\u001b[0m\u001b[0marrays\u001b[0m\u001b[0;34m,\u001b[0m \u001b[0marr_names\u001b[0m\u001b[0;34m,\u001b[0m \u001b[0maxes\u001b[0m\u001b[0;34m)\u001b[0m\u001b[0;34m\u001b[0m\u001b[0;34m\u001b[0m\u001b[0m\n\u001b[0m\u001b[1;32m     94\u001b[0m \u001b[0;34m\u001b[0m\u001b[0m\n\u001b[1;32m     95\u001b[0m \u001b[0;34m\u001b[0m\u001b[0m\n",
      "\u001b[0;32m/Library/Frameworks/Python.framework/Versions/3.8/lib/python3.8/site-packages/pandas/core/internals/managers.py\u001b[0m in \u001b[0;36mcreate_block_manager_from_arrays\u001b[0;34m(arrays, names, axes)\u001b[0m\n\u001b[1;32m   1686\u001b[0m         \u001b[0;32mreturn\u001b[0m \u001b[0mmgr\u001b[0m\u001b[0;34m\u001b[0m\u001b[0;34m\u001b[0m\u001b[0m\n\u001b[1;32m   1687\u001b[0m     \u001b[0;32mexcept\u001b[0m \u001b[0mValueError\u001b[0m \u001b[0;32mas\u001b[0m \u001b[0me\u001b[0m\u001b[0;34m:\u001b[0m\u001b[0;34m\u001b[0m\u001b[0;34m\u001b[0m\u001b[0m\n\u001b[0;32m-> 1688\u001b[0;31m         \u001b[0;32mraise\u001b[0m \u001b[0mconstruction_error\u001b[0m\u001b[0;34m(\u001b[0m\u001b[0mlen\u001b[0m\u001b[0;34m(\u001b[0m\u001b[0marrays\u001b[0m\u001b[0;34m)\u001b[0m\u001b[0;34m,\u001b[0m \u001b[0marrays\u001b[0m\u001b[0;34m[\u001b[0m\u001b[0;36m0\u001b[0m\u001b[0;34m]\u001b[0m\u001b[0;34m.\u001b[0m\u001b[0mshape\u001b[0m\u001b[0;34m,\u001b[0m \u001b[0maxes\u001b[0m\u001b[0;34m,\u001b[0m \u001b[0me\u001b[0m\u001b[0;34m)\u001b[0m\u001b[0;34m\u001b[0m\u001b[0;34m\u001b[0m\u001b[0m\n\u001b[0m\u001b[1;32m   1689\u001b[0m \u001b[0;34m\u001b[0m\u001b[0m\n\u001b[1;32m   1690\u001b[0m \u001b[0;34m\u001b[0m\u001b[0m\n",
      "\u001b[0;32m/Library/Frameworks/Python.framework/Versions/3.8/lib/python3.8/site-packages/pandas/core/internals/managers.py\u001b[0m in \u001b[0;36mcreate_block_manager_from_arrays\u001b[0;34m(arrays, names, axes)\u001b[0m\n\u001b[1;32m   1682\u001b[0m     \u001b[0;32mtry\u001b[0m\u001b[0;34m:\u001b[0m\u001b[0;34m\u001b[0m\u001b[0;34m\u001b[0m\u001b[0m\n\u001b[1;32m   1683\u001b[0m         \u001b[0mblocks\u001b[0m \u001b[0;34m=\u001b[0m \u001b[0mform_blocks\u001b[0m\u001b[0;34m(\u001b[0m\u001b[0marrays\u001b[0m\u001b[0;34m,\u001b[0m \u001b[0mnames\u001b[0m\u001b[0;34m,\u001b[0m \u001b[0maxes\u001b[0m\u001b[0;34m)\u001b[0m\u001b[0;34m\u001b[0m\u001b[0;34m\u001b[0m\u001b[0m\n\u001b[0;32m-> 1684\u001b[0;31m         \u001b[0mmgr\u001b[0m \u001b[0;34m=\u001b[0m \u001b[0mBlockManager\u001b[0m\u001b[0;34m(\u001b[0m\u001b[0mblocks\u001b[0m\u001b[0;34m,\u001b[0m \u001b[0maxes\u001b[0m\u001b[0;34m)\u001b[0m\u001b[0;34m\u001b[0m\u001b[0;34m\u001b[0m\u001b[0m\n\u001b[0m\u001b[1;32m   1685\u001b[0m         \u001b[0mmgr\u001b[0m\u001b[0;34m.\u001b[0m\u001b[0m_consolidate_inplace\u001b[0m\u001b[0;34m(\u001b[0m\u001b[0;34m)\u001b[0m\u001b[0;34m\u001b[0m\u001b[0;34m\u001b[0m\u001b[0m\n\u001b[1;32m   1686\u001b[0m         \u001b[0;32mreturn\u001b[0m \u001b[0mmgr\u001b[0m\u001b[0;34m\u001b[0m\u001b[0;34m\u001b[0m\u001b[0m\n",
      "\u001b[0;32m/Library/Frameworks/Python.framework/Versions/3.8/lib/python3.8/site-packages/pandas/core/internals/managers.py\u001b[0m in \u001b[0;36m__init__\u001b[0;34m(self, blocks, axes, do_integrity_check)\u001b[0m\n\u001b[1;32m    147\u001b[0m \u001b[0;34m\u001b[0m\u001b[0m\n\u001b[1;32m    148\u001b[0m         \u001b[0;32mif\u001b[0m \u001b[0mdo_integrity_check\u001b[0m\u001b[0;34m:\u001b[0m\u001b[0;34m\u001b[0m\u001b[0;34m\u001b[0m\u001b[0m\n\u001b[0;32m--> 149\u001b[0;31m             \u001b[0mself\u001b[0m\u001b[0;34m.\u001b[0m\u001b[0m_verify_integrity\u001b[0m\u001b[0;34m(\u001b[0m\u001b[0;34m)\u001b[0m\u001b[0;34m\u001b[0m\u001b[0;34m\u001b[0m\u001b[0m\n\u001b[0m\u001b[1;32m    150\u001b[0m \u001b[0;34m\u001b[0m\u001b[0m\n\u001b[1;32m    151\u001b[0m         \u001b[0;31m# Populate known_consolidate, blknos, and blklocs lazily\u001b[0m\u001b[0;34m\u001b[0m\u001b[0;34m\u001b[0m\u001b[0;34m\u001b[0m\u001b[0m\n",
      "\u001b[0;32m/Library/Frameworks/Python.framework/Versions/3.8/lib/python3.8/site-packages/pandas/core/internals/managers.py\u001b[0m in \u001b[0;36m_verify_integrity\u001b[0;34m(self)\u001b[0m\n\u001b[1;32m    324\u001b[0m         \u001b[0;32mfor\u001b[0m \u001b[0mblock\u001b[0m \u001b[0;32min\u001b[0m \u001b[0mself\u001b[0m\u001b[0;34m.\u001b[0m\u001b[0mblocks\u001b[0m\u001b[0;34m:\u001b[0m\u001b[0;34m\u001b[0m\u001b[0;34m\u001b[0m\u001b[0m\n\u001b[1;32m    325\u001b[0m             \u001b[0;32mif\u001b[0m \u001b[0mblock\u001b[0m\u001b[0;34m.\u001b[0m\u001b[0mshape\u001b[0m\u001b[0;34m[\u001b[0m\u001b[0;36m1\u001b[0m\u001b[0;34m:\u001b[0m\u001b[0;34m]\u001b[0m \u001b[0;34m!=\u001b[0m \u001b[0mmgr_shape\u001b[0m\u001b[0;34m[\u001b[0m\u001b[0;36m1\u001b[0m\u001b[0;34m:\u001b[0m\u001b[0;34m]\u001b[0m\u001b[0;34m:\u001b[0m\u001b[0;34m\u001b[0m\u001b[0;34m\u001b[0m\u001b[0m\n\u001b[0;32m--> 326\u001b[0;31m                 \u001b[0;32mraise\u001b[0m \u001b[0mconstruction_error\u001b[0m\u001b[0;34m(\u001b[0m\u001b[0mtot_items\u001b[0m\u001b[0;34m,\u001b[0m \u001b[0mblock\u001b[0m\u001b[0;34m.\u001b[0m\u001b[0mshape\u001b[0m\u001b[0;34m[\u001b[0m\u001b[0;36m1\u001b[0m\u001b[0;34m:\u001b[0m\u001b[0;34m]\u001b[0m\u001b[0;34m,\u001b[0m \u001b[0mself\u001b[0m\u001b[0;34m.\u001b[0m\u001b[0maxes\u001b[0m\u001b[0;34m)\u001b[0m\u001b[0;34m\u001b[0m\u001b[0;34m\u001b[0m\u001b[0m\n\u001b[0m\u001b[1;32m    327\u001b[0m         \u001b[0;32mif\u001b[0m \u001b[0mlen\u001b[0m\u001b[0;34m(\u001b[0m\u001b[0mself\u001b[0m\u001b[0;34m.\u001b[0m\u001b[0mitems\u001b[0m\u001b[0;34m)\u001b[0m \u001b[0;34m!=\u001b[0m \u001b[0mtot_items\u001b[0m\u001b[0;34m:\u001b[0m\u001b[0;34m\u001b[0m\u001b[0;34m\u001b[0m\u001b[0m\n\u001b[1;32m    328\u001b[0m             raise AssertionError(\n",
      "\u001b[0;31mValueError\u001b[0m: Shape of passed values is (10, 2), indices imply (2, 2)"
     ]
    }
   ],
   "source": [
    "\n",
    "topTenBiden = pd.DataFrame(dict(Biden=list(dict(topTenBiden).values()), Trump=list(dict(ourTrumperDict).values())), index=topTenBiden.keys())\n",
    "bidenGraph = topTenBiden.plot.bar(title=\"Biden\")\n",
    "\n",
    "#topTenTrump = pd.DataFrame(dict(Biden=list(dict(ourBidenDict).values()), Trump=list(dict(topTenTrump).values()), index=topTenTrump.keys()))\n",
    "#trumpGraph = topTenTrump.plot.bar(title=\"Trump\")\n",
    "\n"
   ]
  },
  {
   "cell_type": "code",
   "execution_count": null,
   "metadata": {},
   "outputs": [],
   "source": [
    "N = 10\n",
    "topTenBiden = dict(topTenBiden)\n",
    "topTenTrump = dict(topTenTrump)\n",
    "#r1 = np.arange(len(topTenBiden.keys()))\n",
    "#r2 = [x + width for x in r1]\n",
    "plt.figure(figsize=(10,5))\n",
    "width = 0.3\n",
    "width2 = 0.15\n",
    "#y_pos=np.arange(len(topTenTrump.values()))\n",
    "plt.bar( topTenTrump.keys(), topTenTrump.values(), width)\n",
    "plt.bar(ourBidenDict.keys(), ourBidenDict.values(), width2)\n",
    "plt.xticks(rotation = 90)\n",
    "plt.show()"
   ]
  },
  {
   "cell_type": "code",
   "execution_count": null,
   "metadata": {},
   "outputs": [],
   "source": []
  },
  {
   "cell_type": "code",
   "execution_count": null,
   "metadata": {},
   "outputs": [],
   "source": [
    "def shannonEntropy(vector):\n",
    "\n",
    "    listOfElements = []\n",
    "    for p in vector:\n",
    "        if p > 0:\n",
    "            element = p*log2(p)\n",
    "            listOfElements.append(element)\n",
    "        else:\n",
    "            element = 0\n",
    "            listOfElements.append(element)\n",
    "        entropy = -1 * sum(listOfElements)\n",
    "    return entropy"
   ]
  },
  {
   "cell_type": "code",
   "execution_count": null,
   "metadata": {},
   "outputs": [],
   "source": [
    "def findWeightedShannonEntropy(groupTeam, teamTargetArray, matrix):\n",
    "    countTrumpTeam, countBidenTeam = findTrumpBiden(groupTeam, teamTargetArray)\n",
    "    if (countTrumpTeam + countBidenTeam) != 0:\n",
    "        probTrumpTeam = countTrumpTeam / (countTrumpTeam + countBidenTeam)\n",
    "        probBidenTeam = countBidenTeam / (countTrumpTeam + countBidenTeam)\n",
    "    else:\n",
    "        probTrumpTeam = 0\n",
    "        probBidenTeam = 0\n",
    "\n",
    "    probTeamVector = [probTrumpTeam, probBidenTeam]\n",
    "    sEntropy = shannonEntropy(probTeamVector)\n",
    "    wae = sEntropy * (len(groupTeam)/len(matrix))\n",
    "    return wae\n",
    "\n",
    "waeTeam = findWeightedShannonEntropy(listOfTeam, teamTargetArray, matrix)\n",
    "waeNotTeam = findWeightedShannonEntropy(listOfNotTeam, notTeamTargetArray, matrix)\n",
    "print(\"Weighted Average Entropy of team of POTUS User: \", waeTeam)\n",
    "print(\"Weighted Average Entropy of NOT team of POTUS User:\", waeNotTeam)"
   ]
  },
  {
   "cell_type": "code",
   "execution_count": null,
   "metadata": {},
   "outputs": [],
   "source": [
    "def getSplitWAE(groupTeam, groupNotTeam, teamTargetArray, notTeamTargetArray, matrix):\n",
    "        wae1 = findWeightedShannonEntropy(groupTeam, teamTargetArray, matrix)\n",
    "        \n",
    "        wae2 = findWeightedShannonEntropy(groupNotTeam, notTeamTargetArray, matrix)\n",
    "\n",
    "        return (wae1 + wae2)"
   ]
  },
  {
   "cell_type": "code",
   "execution_count": null,
   "metadata": {},
   "outputs": [],
   "source": [
    "def createWAEDict(matrix, targetArray, topTeams):\n",
    "    dictWAE = defaultdict(float)\n",
    "    for index, team in enumerate(topTeams):\n",
    "        groupTeam, groupNotTeam, TeamTargetArray, notTeamTargetArray = createSubgroups(matrix, targetArray, topTeams, team)\n",
    "        teamWAE = getSplitWAE(groupTeam, groupNotTeam, TeamTargetArray, notTeamTargetArray, matrix)\n",
    "        dictWAE[team] = teamWAE\n",
    "    return dictWAE\n",
    "\n",
    "newDict = createWAEDict(matrix, targetArray, topTeamsList)\n",
    "print(newDict)"
   ]
  },
  {
   "cell_type": "code",
   "execution_count": null,
   "metadata": {},
   "outputs": [],
   "source": [
    "def findLowestSplit(dictOfWAE, matrix, topTeams, targetArray):\n",
    "    sortedDict = sorted(dictOfWAE.items(), key = lambda x: x[1], reverse = False)\n",
    "    def sortedWAEDict(sortedDict):\n",
    "        if int(len(sortedDict)) == 0:\n",
    "            return None\n",
    "        group1, group2, TargetArray1, TargetArray2 = createSubgroups(matrix, targetArray, topTeams, sortedDict[0][0])\n",
    "\n",
    "        if int(len(group1)) != 0 and int(len(group2)) != 0:\n",
    "            return str(sortedDict[0][0])\n",
    "        else:\n",
    "            del sortedDict[0]\n",
    "            sortedWAEDict(sortedDict)\n",
    "    team = sortedWAEDict(sortedDict)\n",
    "    return team\n",
    "\"\"\"def findLowestSplit(dictOfWAE, matrix, topTeams, targetArray):\n",
    "    sortedDict = sorted(dictOfWAE.items(), key = lambda x: x[1], reverse = False)\n",
    "    return sortedDict[0][0]\"\"\"\n",
    "team = findLowestSplit(newDict, matrix, topTeamsList, targetArray)\n",
    "print(\"Lowest entropy: \")\n",
    "print(team)"
   ]
  },
  {
   "cell_type": "code",
   "execution_count": null,
   "metadata": {},
   "outputs": [],
   "source": [
    "def createTree(matrix, topTeams, targetArray):\n",
    "    if len(matrix) < 5:\n",
    "        return \"\"\n",
    "    waeDict = createWAEDict(matrix, targetArray, topTeams)\n",
    "    user = findLowestSplit(waeDict, matrix, topTeams, targetArray)\n",
    "    group1, group2, targetArray1, targetArray2 = createSubgroups(matrix, targetArray, topTeams, user)\n",
    "    \n",
    "    print()\n",
    "    print(\"Split by: \", user)\n",
    "    print(\"Weighted entropy: \", waeDict[user])\n",
    "    \n",
    "    if len(group1) >= len(group2):\n",
    "        largestGroup = group1\n",
    "        largestTA = targetArray1\n",
    "        smallerGroup = group2\n",
    "    else:\n",
    "        largestGroup = group2\n",
    "        largestTA = targetArray2\n",
    "        smallerGroup = group1\n",
    "        \n",
    "    print(\"Bigger group size: \", np.array(largestGroup).shape)\n",
    "    print(\"Smaller group size: \", np.array(smallerGroup).shape)\n",
    "    \n",
    "    return createTree(largestGroup, topTeams, largestTA)\n",
    "\n",
    "createTree(matrix, topTeamsList, targetArray)\n",
    "\n",
    "    \n",
    "    "
   ]
  },
  {
   "cell_type": "code",
   "execution_count": null,
   "metadata": {},
   "outputs": [],
   "source": []
  }
 ],
 "metadata": {
  "kernelspec": {
   "display_name": "Python 3",
   "language": "python",
   "name": "python3"
  },
  "language_info": {
   "codemirror_mode": {
    "name": "ipython",
    "version": 3
   },
   "file_extension": ".py",
   "mimetype": "text/x-python",
   "name": "python",
   "nbconvert_exporter": "python",
   "pygments_lexer": "ipython3",
   "version": "3.8.3"
  }
 },
 "nbformat": 4,
 "nbformat_minor": 4
}
