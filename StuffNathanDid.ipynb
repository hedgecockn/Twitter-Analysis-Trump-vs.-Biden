{
 "cells": [
  {
   "cell_type": "markdown",
   "metadata": {},
   "source": [
    "#### Testing if the testing accuracy is accurate"
   ]
  },
  {
   "cell_type": "code",
   "execution_count": 53,
   "metadata": {
    "scrolled": true
   },
   "outputs": [
    {
     "data": {
      "text/plain": [
       "array([1, 1, 1, 1, 0, 1, 1, 1, 1, 1, 1, 1, 0, 0, 0, 1, 0, 1, 1, 0, 1, 1,\n",
       "       1, 1, 1, 1, 1, 1, 1, 1, 1, 0, 1, 1, 1, 1, 1, 1, 1, 1, 1, 1, 1, 1,\n",
       "       1, 1, 1, 1, 1, 1, 1, 1, 1, 1, 1, 1, 0, 1, 1, 1, 1, 1, 1, 1, 1, 1,\n",
       "       1, 1, 1, 1, 1, 1, 1, 1, 1, 1, 1, 1, 1, 1, 1, 1, 1, 1, 1, 0, 0, 1,\n",
       "       1, 1, 0, 1, 1, 0, 1, 1, 1, 1, 1, 1, 1, 1, 1, 1, 1, 0, 1, 1, 1, 0,\n",
       "       1, 1, 0, 1, 1, 1, 1, 1, 0, 1, 0, 1, 1, 1, 1, 1, 1, 1, 1, 1, 1, 1,\n",
       "       1, 1, 1, 0, 1, 1, 1, 1, 1, 0, 1, 1, 1, 1, 1, 1, 1, 0, 0, 1, 1, 1,\n",
       "       1, 1, 1, 0, 1, 1, 0, 1, 1, 1, 1, 1, 1, 1, 1, 0, 0, 1, 0, 1, 1, 1,\n",
       "       1, 1, 0, 1, 1, 1, 1, 1, 1, 1, 1, 1, 1, 0, 0, 1, 1, 1, 1, 0, 1, 1,\n",
       "       1, 0, 1, 1, 1, 1, 1, 1, 1, 1, 1, 1, 1, 0, 0, 1, 1, 1, 1, 1, 1, 1,\n",
       "       1, 1, 1, 1, 1, 0, 1, 1, 0, 0, 0, 0, 0, 1, 0, 1, 1, 0, 1, 0, 1, 1,\n",
       "       1, 1, 0, 0, 0, 0, 1, 0, 1, 1, 1, 0, 0, 0, 0, 1, 1, 0, 0, 0, 0, 1,\n",
       "       1, 0, 0, 0, 0, 1, 0, 1, 0, 0, 0, 1, 0, 1, 0, 0, 1, 1, 0, 1, 0, 0,\n",
       "       1, 1, 0, 0, 0, 0, 0, 1, 1, 1, 1, 0, 0, 0, 1, 0, 1, 0, 1, 1, 0, 0,\n",
       "       0, 1, 0, 1, 0, 0, 1, 0, 0, 0, 1, 0, 1, 0, 0, 0, 1, 0, 1, 0, 1, 0,\n",
       "       0, 1, 0, 1, 1, 1, 1, 1, 0, 0, 0, 0, 0, 0, 0, 1, 1, 0, 0, 0, 0, 0,\n",
       "       0, 0, 1, 0, 0, 1, 1, 0, 1, 0, 1, 1, 0, 1, 0, 1, 1, 0, 0, 1, 0, 1,\n",
       "       0, 1, 1, 1, 0, 0, 0, 0, 0, 0, 0, 0, 0, 0, 0, 1, 1, 1, 1, 0, 1, 0,\n",
       "       1, 1, 1, 1, 1, 0, 1, 0, 0, 0, 0, 0, 0, 0, 0, 1, 0, 1, 1, 0, 0, 1,\n",
       "       0, 0, 0, 1, 0, 0, 1, 0, 1, 1, 0, 0, 1, 0, 0, 0, 1, 0, 1, 0, 0, 1,\n",
       "       0, 1])"
      ]
     },
     "execution_count": 53,
     "metadata": {},
     "output_type": "execute_result"
    }
   ],
   "source": [
    "model.predict(matrix)"
   ]
  },
  {
   "cell_type": "code",
   "execution_count": 54,
   "metadata": {},
   "outputs": [
    {
     "data": {
      "text/plain": [
       "array([1, 1, 1, 1, 1, 1, 1, 1, 1, 1, 1, 1, 1, 1, 1, 1, 1, 1, 1, 1, 1, 1,\n",
       "       1, 1, 1, 1, 1, 1, 1, 1, 1, 1, 1, 1, 1, 1, 1, 1, 1, 1, 1, 1, 1, 1,\n",
       "       1, 1, 1, 1, 1, 1, 1, 1, 1, 1, 1, 1, 1, 1, 1, 1, 1, 1, 1, 1, 1, 1,\n",
       "       1, 1, 1, 1, 1, 1, 1, 1, 1, 1, 1, 1, 1, 1, 1, 1, 1, 1, 1, 1, 1, 1,\n",
       "       1, 1, 1, 1, 1, 1, 1, 1, 1, 1, 1, 1, 1, 1, 1, 1, 1, 1, 1, 1, 1, 1,\n",
       "       1, 1, 1, 1, 1, 1, 1, 1, 1, 1, 1, 1, 1, 1, 1, 1, 1, 1, 1, 1, 1, 1,\n",
       "       1, 1, 1, 1, 1, 1, 1, 1, 1, 1, 1, 1, 1, 1, 1, 1, 1, 1, 1, 1, 1, 1,\n",
       "       1, 1, 1, 1, 1, 1, 1, 1, 1, 1, 1, 1, 1, 1, 1, 1, 1, 1, 1, 1, 1, 1,\n",
       "       1, 1, 1, 1, 1, 1, 1, 1, 1, 1, 1, 1, 1, 1, 1, 1, 1, 1, 1, 1, 1, 1,\n",
       "       1, 1, 1, 1, 1, 1, 1, 1, 1, 1, 1, 1, 1, 1, 1, 1, 1, 1, 1, 1, 1, 1,\n",
       "       1, 1, 1, 1, 1, 1, 1, 1, 0, 0, 0, 0, 0, 0, 0, 0, 0, 0, 0, 0, 0, 0,\n",
       "       0, 0, 0, 0, 0, 0, 0, 0, 0, 0, 0, 0, 0, 0, 0, 0, 0, 0, 0, 0, 0, 0,\n",
       "       0, 0, 0, 0, 0, 0, 0, 0, 0, 0, 0, 0, 0, 0, 0, 0, 0, 0, 0, 0, 0, 0,\n",
       "       0, 0, 0, 0, 0, 0, 0, 0, 0, 0, 0, 0, 0, 0, 0, 0, 0, 0, 0, 0, 0, 0,\n",
       "       0, 0, 0, 0, 0, 0, 0, 0, 0, 0, 0, 0, 0, 0, 0, 0, 0, 0, 0, 0, 0, 0,\n",
       "       0, 0, 0, 0, 0, 0, 0, 0, 0, 0, 0, 0, 0, 0, 0, 0, 0, 0, 0, 0, 0, 0,\n",
       "       0, 0, 0, 0, 0, 0, 0, 0, 0, 0, 0, 0, 0, 0, 0, 0, 0, 0, 0, 0, 0, 0,\n",
       "       0, 0, 0, 0, 0, 0, 0, 0, 0, 0, 0, 0, 0, 0, 0, 0, 0, 0, 0, 0, 0, 0,\n",
       "       0, 0, 0, 0, 0, 0, 0, 0, 0, 0, 0, 0, 0, 0, 0, 0, 0, 0, 0, 0, 0, 0,\n",
       "       0, 0, 0, 0, 0, 0, 0, 0, 0, 0, 0, 0, 0, 0, 0, 0, 0, 0, 0, 0, 0, 0,\n",
       "       0, 0])"
      ]
     },
     "execution_count": 54,
     "metadata": {},
     "output_type": "execute_result"
    }
   ],
   "source": [
    "targetArray"
   ]
  },
  {
   "cell_type": "code",
   "execution_count": 55,
   "metadata": {},
   "outputs": [],
   "source": [
    "def alternateAccuracy(matrix1, matrix2):\n",
    "    right = 0\n",
    "    wrong = 0\n",
    "    for i in range(len(matrix1)):\n",
    "        if (matrix1[i] == matrix2[i]):\n",
    "            right += 1\n",
    "        else:\n",
    "            wrong += 1\n",
    "    return right / (right + wrong)"
   ]
  },
  {
   "cell_type": "markdown",
   "metadata": {},
   "source": [
    "#### Accuracy on all data"
   ]
  },
  {
   "cell_type": "code",
   "execution_count": 56,
   "metadata": {},
   "outputs": [
    {
     "data": {
      "text/plain": [
       "0.7262443438914027"
      ]
     },
     "execution_count": 56,
     "metadata": {},
     "output_type": "execute_result"
    }
   ],
   "source": [
    "alternateAccuracy(model.predict(matrix),targetArray)"
   ]
  },
  {
   "cell_type": "markdown",
   "metadata": {},
   "source": [
    "#### Accuracy on only test data"
   ]
  },
  {
   "cell_type": "code",
   "execution_count": 65,
   "metadata": {},
   "outputs": [
    {
     "data": {
      "text/plain": [
       "0.68"
      ]
     },
     "execution_count": 65,
     "metadata": {},
     "output_type": "execute_result"
    }
   ],
   "source": [
    "alternateAccuracy(model.predict(testX),testY)"
   ]
  },
  {
   "cell_type": "code",
   "execution_count": null,
   "metadata": {},
   "outputs": [],
   "source": []
  },
  {
   "cell_type": "code",
   "execution_count": null,
   "metadata": {},
   "outputs": [],
   "source": []
  },
  {
   "cell_type": "code",
   "execution_count": 69,
   "metadata": {},
   "outputs": [],
   "source": [
    "def averageFollowing(matrix1, matrix2, classification):\n",
    "    totalInClass = 0\n",
    "    totalFollowing = 0\n",
    "    for i in range(len(matrix2)):\n",
    "        if (matrix2[i] == classification):\n",
    "            totalInClass += 1;\n",
    "            for e in matrix1[i]:\n",
    "                if (e == 1):\n",
    "                    totalFollowing += 1;\n",
    "    return totalFollowing / totalInClass"
   ]
  },
  {
   "cell_type": "code",
   "execution_count": 78,
   "metadata": {},
   "outputs": [
    {
     "name": "stdout",
     "output_type": "stream",
     "text": [
      "Biden followers follow 7.285046728971962 accounts on average\n",
      "Trump followers follow 4.798245614035087 accounts on average\n"
     ]
    }
   ],
   "source": [
    "print(\"Biden followers follow \" + str(averageFollowing(matrix, targetArray, 0)) + \" accounts on average\")\n",
    "print(\"Trump followers follow \" + str(averageFollowing(matrix, targetArray, 1)) + \" accounts on average\")"
   ]
  },
  {
   "cell_type": "code",
   "execution_count": 79,
   "metadata": {},
   "outputs": [],
   "source": [
    "def createFollowingList(matrix1, matrix2, classification):\n",
    "    followingList = []\n",
    "    for i in range(len(matrix2)):\n",
    "        if (matrix2[i] == classification):\n",
    "            numFollowing = 0\n",
    "            for e in matrix1[i]:\n",
    "                if (e == 1):\n",
    "                    numFollowing += 1;\n",
    "            followingList.append(numFollowing)\n",
    "    return followingList"
   ]
  },
  {
   "cell_type": "code",
   "execution_count": 84,
   "metadata": {},
   "outputs": [],
   "source": [
    "bidenFollowingList = createFollowingList(matrix, targetArray, 0)\n",
    "trumpFollowingList = createFollowingList(matrix, targetArray, 1)"
   ]
  },
  {
   "cell_type": "code",
   "execution_count": 100,
   "metadata": {},
   "outputs": [
    {
     "data": {
      "image/png": "[encoded data removed]",
      "text/plain": [
       "<Figure size 432x288 with 1 Axes>"
      ]
     },
     "metadata": {
      "needs_background": "light"
     },
     "output_type": "display_data"
    }
   ],
   "source": [
    "plt.hist(bidenFollowingList, bins = 30)\n",
    "plt.title('Biden')\n",
    "plt.xlim(0, 50)\n",
    "plt.ylim(0, 100)\n",
    "plt.ylabel('number of followers')\n",
    "plt.xlabel('number following');"
   ]
  },
  {
   "cell_type": "code",
   "execution_count": 101,
   "metadata": {},
   "outputs": [
    {
     "data": {
      "image/png": "[encoded data removed]",
      "text/plain": [
       "<Figure size 432x288 with 1 Axes>"
      ]
     },
     "metadata": {
      "needs_background": "light"
     },
     "output_type": "display_data"
    }
   ],
   "source": [
    "plt.hist(trumpFollowingList, bins = 30)\n",
    "plt.title('Trump')\n",
    "plt.xlim(0, 50)\n",
    "plt.ylim(0, 100)\n",
    "plt.ylabel('number of followers')\n",
    "plt.xlabel('number following');"
   ]
  },
  {
   "cell_type": "code",
   "execution_count": null,
   "metadata": {},
   "outputs": [],
   "source": [
    "#### Testing if the testing accuracy is accurate\n",
    "\n",
    "model.predict(matrix)\n",
    "\n",
    "targetArray\n",
    "\n",
    "def alternateAccuracy(matrix1, matrix2):\n",
    "    right = 0\n",
    "    wrong = 0\n",
    "    for i in range(len(matrix1)):\n",
    "        if (matrix1[i] == matrix2[i]):\n",
    "            right += 1\n",
    "        else:\n",
    "            wrong += 1\n",
    "    return right / (right + wrong)\n",
    "\n",
    "#### Accuracy on all data\n",
    "\n",
    "alternateAccuracy(model.predict(matrix),targetArray)\n",
    "\n",
    "#### Accuracy on only test data\n",
    "\n",
    "alternateAccuracy(model.predict(testX),testY)\n",
    "\n",
    "\n",
    "\n",
    "\n",
    "\n",
    "def averageFollowing(matrix1, matrix2, classification):\n",
    "    totalInClass = 0\n",
    "    totalFollowing = 0\n",
    "    for i in range(len(matrix2)):\n",
    "        if (matrix2[i] == classification):\n",
    "            totalInClass += 1;\n",
    "            for e in matrix1[i]:\n",
    "                if (e == 1):\n",
    "                    totalFollowing += 1;\n",
    "    return totalFollowing / totalInClass\n",
    "\n",
    "print(\"Biden followers follow \" + str(averageFollowing(matrix, targetArray, 0)) + \" accounts on average\")\n",
    "print(\"Trump followers follow \" + str(averageFollowing(matrix, targetArray, 1)) + \" accounts on average\")\n",
    "\n",
    "def createFollowingList(matrix1, matrix2, classification):\n",
    "    followingList = []\n",
    "    for i in range(len(matrix2)):\n",
    "        if (matrix2[i] == classification):\n",
    "            numFollowing = 0\n",
    "            for e in matrix1[i]:\n",
    "                if (e == 1):\n",
    "                    numFollowing += 1;\n",
    "            followingList.append(numFollowing)\n",
    "    return followingList\n",
    "\n",
    "bidenFollowingList = createFollowingList(matrix, targetArray, 0)\n",
    "trumpFollowingList = createFollowingList(matrix, targetArray, 1)\n",
    "\n",
    "plt.hist(bidenFollowingList, bins = 30)\n",
    "plt.title('Biden')\n",
    "plt.xlim(0, 50)\n",
    "plt.ylim(0, 100)\n",
    "plt.ylabel('number of followers')\n",
    "plt.xlabel('number following');\n",
    "\n",
    "plt.hist(trumpFollowingList, bins = 30)\n",
    "plt.title('Trump')\n",
    "plt.xlim(0, 50)\n",
    "plt.ylim(0, 100)\n",
    "plt.ylabel('number of followers')\n",
    "plt.xlabel('number following');"
   ]
  }
 ],
 "metadata": {
  "kernelspec": {
   "display_name": "Python 3",
   "language": "python",
   "name": "python3"
  },
  "language_info": {
   "codemirror_mode": {
    "name": "ipython",
    "version": 3
   },
   "file_extension": ".py",
   "mimetype": "text/x-python",
   "name": "python",
   "nbconvert_exporter": "python",
   "pygments_lexer": "ipython3",
   "version": "3.8.3"
  }
 },
 "nbformat": 4,
 "nbformat_minor": 4
}
