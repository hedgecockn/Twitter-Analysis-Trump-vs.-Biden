{
 "cells": [
  {
   "cell_type": "code",
   "execution_count": 44,
   "metadata": {},
   "outputs": [],
   "source": [
    "from tqdm import tqdm\n",
    "import os\n",
    "import twint\n",
    "import pandas as pd\n",
    "import numpy as np\n",
    "from collections import defaultdict\n",
    "from collections import Counter\n",
    "import csv\n",
    "import math\n",
    "from math import log2\n",
    "import matplotlib.pyplot as plt"
   ]
  },
  {
   "cell_type": "markdown",
   "metadata": {},
   "source": [
    "# Model"
   ]
  },
  {
   "cell_type": "code",
   "execution_count": 5,
   "metadata": {},
   "outputs": [],
   "source": [
    "matrix = np.load('matrix.npy')\n",
    "bothMatrix = np.load('bothMatrix.npy')\n",
    "targetArray = np.load('tagetArray.npy')\n",
    "topTeamsListMessy = np.load('topTeamsList.npy')\n",
    "\n",
    "def cleanTeamsList(teamsList):\n",
    "    cleanList = []\n",
    "    for user in teamsList:\n",
    "        cleanUser = user[2:-3]\n",
    "        cleanList.append(cleanUser)\n",
    "    return cleanList\n",
    "\n",
    "topTeamsList = cleanTeamsList(topTeamsListMessy)\n"
   ]
  },
  {
   "cell_type": "code",
   "execution_count": 6,
   "metadata": {},
   "outputs": [],
   "source": [
    "from sklearn.naive_bayes import BernoulliNB\n",
    "\n",
    "def evaluate(target, prediction):\n",
    "    zipped = zip(target, prediction)\n",
    "    FP = 0\n",
    "    TP = 0\n",
    "    FN = 0\n",
    "    TN = 0\n",
    "    for ans, pred in zipped:\n",
    "        #print(ans, pred)\n",
    "        if ans < pred:\n",
    "            FP += 1\n",
    "        elif ans > pred:\n",
    "            FN += 1\n",
    "        elif ans == 0:\n",
    "            TP += 1\n",
    "        elif ans == 1:\n",
    "            TN += 1\n",
    "        else:\n",
    "            #print(\"error\")\n",
    "            pass\n",
    "            \n",
    "    return TP, TN, FP, FN\n",
    "\n",
    "\n",
    "def train(trainingMatrix, trainingTargetArray, testMatrix, testTargetArray):\n",
    "    model = BernoulliNB()\n",
    "    model.fit(trainingMatrix, trainingTargetArray)\n",
    "\n",
    "    prediction = model.predict(testMatrix)\n",
    "\n",
    "    return evaluate(testTargetArray, prediction)\n",
    "\n",
    "#evaluate(targetArray, matrix)"
   ]
  },
  {
   "cell_type": "code",
   "execution_count": 7,
   "metadata": {},
   "outputs": [],
   "source": [
    "trainX = matrix[25:-25]\n",
    "trainY = targetArray[25:-25]\n",
    "testX = np.concatenate((matrix[:25], matrix[-25:]), axis = 0)\n",
    "testY = np.concatenate((targetArray[:25], targetArray[-25:]), axis = 0)"
   ]
  },
  {
   "cell_type": "code",
   "execution_count": 8,
   "metadata": {},
   "outputs": [],
   "source": [
    "TP, TN, FP, FN = train(trainX, trainY, testX, testY)"
   ]
  },
  {
   "cell_type": "code",
   "execution_count": 9,
   "metadata": {},
   "outputs": [
    {
     "name": "stdout",
     "output_type": "stream",
     "text": [
      "0.6799999999999999\n"
     ]
    }
   ],
   "source": [
    "accuracy = 1 - ((FP+FN) / (TP+TN+FP+FN))\n",
    "print(accuracy)"
   ]
  },
  {
   "cell_type": "markdown",
   "metadata": {},
   "source": [
    "# Entropies"
   ]
  },
  {
   "cell_type": "code",
   "execution_count": 10,
   "metadata": {},
   "outputs": [
    {
     "name": "stdout",
     "output_type": "stream",
     "text": [
      "KAMALAHARRIS\n",
      "Length of team matrix:  130\n",
      "Length of NOT team matrix:  312\n"
     ]
    }
   ],
   "source": [
    "def createSubgroups(matrix, targetArray, teamsList, teamSpec):\n",
    "    listOfTeam = []\n",
    "    listOfNotTeam = []\n",
    "    teamTargetArray = []\n",
    "    notTeamTargetArray = []\n",
    "    \n",
    "    for index, team in enumerate(teamsList):\n",
    "        if team == teamSpec:\n",
    "            teamIndex = index\n",
    "    for index2, person in enumerate(matrix):\n",
    "        if person[teamIndex] == 1:\n",
    "            listOfTeam.append(person)\n",
    "            if int(targetArray[index2]) == 1:\n",
    "                teamTargetArray.append(1)\n",
    "            else:\n",
    "                teamTargetArray.append(0)\n",
    "        else:\n",
    "            listOfNotTeam.append(person)\n",
    "            if int(targetArray[index2]) == 1:\n",
    "                notTeamTargetArray.append(1)\n",
    "            else:\n",
    "                notTeamTargetArray.append(0)\n",
    "    return listOfTeam, listOfNotTeam, teamTargetArray, notTeamTargetArray\n",
    "\n",
    "listOfTeam, listOfNotTeam, teamTargetArray, notTeamTargetArray = createSubgroups(matrix, targetArray, topTeamsList, 'KamalaHarris')\n",
    "\n",
    "print(\"KAMALAHARRIS\")\n",
    "print(\"Length of team matrix: \", len(listOfTeam))\n",
    "print(\"Length of NOT team matrix: \", len(listOfNotTeam))\n"
   ]
  },
  {
   "cell_type": "code",
   "execution_count": 11,
   "metadata": {},
   "outputs": [
    {
     "name": "stdout",
     "output_type": "stream",
     "text": [
      "POTUS Biden:  101\n",
      "POTUS Trump:  29\n"
     ]
    }
   ],
   "source": [
    "def findTrumpBiden(group, targetArray):\n",
    "    countTrump = 0\n",
    "    countBiden = 0\n",
    "    for index, person in enumerate(group):\n",
    "        if targetArray[index] == 1:\n",
    "            countTrump += 1\n",
    "        else:\n",
    "            countBiden += 1\n",
    "    return countTrump, countBiden\n",
    "countTrump, countBiden = findTrumpBiden(listOfTeam, teamTargetArray)\n",
    "print(\"POTUS Biden: \", countBiden)\n",
    "print(\"POTUS Trump: \", countTrump)"
   ]
  },
  {
   "cell_type": "code",
   "execution_count": 12,
   "metadata": {},
   "outputs": [],
   "source": [
    "def shannonEntropy(vector):\n",
    "\n",
    "    listOfElements = []\n",
    "    for p in vector:\n",
    "        if p > 0:\n",
    "            element = p*log2(p)\n",
    "            listOfElements.append(element)\n",
    "        else:\n",
    "            element = 0\n",
    "            listOfElements.append(element)\n",
    "        entropy = -1 * sum(listOfElements)\n",
    "    return entropy"
   ]
  },
  {
   "cell_type": "code",
   "execution_count": 30,
   "metadata": {},
   "outputs": [],
   "source": [
    "def findShannonEntropy(groupTeam, teamTargetArray, matrix):\n",
    "    countTrumpTeam, countBidenTeam = findTrumpBiden(groupTeam, teamTargetArray)\n",
    "    if (countTrumpTeam + countBidenTeam) != 0:\n",
    "        probTrumpTeam = countTrumpTeam / (countTrumpTeam + countBidenTeam)\n",
    "        probBidenTeam = countBidenTeam / (countTrumpTeam + countBidenTeam)\n",
    "    else:\n",
    "        probTrumpTeam = 0\n",
    "        probBidenTeam = 0\n",
    "\n",
    "    probTeamVector = [probTrumpTeam, probBidenTeam]\n",
    "    sEntropy = shannonEntropy(probTeamVector)\n",
    "    return sEntropy"
   ]
  },
  {
   "cell_type": "code",
   "execution_count": 13,
   "metadata": {},
   "outputs": [
    {
     "name": "stdout",
     "output_type": "stream",
     "text": [
      "Weighted Average Entropy of team of POTUS User:  0.22521947302504128\n",
      "Weighted Average Entropy of NOT team of POTUS User: 0.6666899774749303\n"
     ]
    }
   ],
   "source": [
    "def findWeightedShannonEntropy(groupTeam, teamTargetArray, matrix):\n",
    "    countTrumpTeam, countBidenTeam = findTrumpBiden(groupTeam, teamTargetArray)\n",
    "    if (countTrumpTeam + countBidenTeam) != 0:\n",
    "        probTrumpTeam = countTrumpTeam / (countTrumpTeam + countBidenTeam)\n",
    "        probBidenTeam = countBidenTeam / (countTrumpTeam + countBidenTeam)\n",
    "    else:\n",
    "        probTrumpTeam = 0\n",
    "        probBidenTeam = 0\n",
    "\n",
    "    probTeamVector = [probTrumpTeam, probBidenTeam]\n",
    "    sEntropy = shannonEntropy(probTeamVector)\n",
    "    wae = sEntropy * (len(groupTeam)/len(matrix))\n",
    "    return wae\n",
    "\n",
    "waeTeam = findWeightedShannonEntropy(listOfTeam, teamTargetArray, matrix)\n",
    "waeNotTeam = findWeightedShannonEntropy(listOfNotTeam, notTeamTargetArray, matrix)\n",
    "print(\"Weighted Average Entropy of team of POTUS User: \", waeTeam)\n",
    "print(\"Weighted Average Entropy of NOT team of POTUS User:\", waeNotTeam)"
   ]
  },
  {
   "cell_type": "code",
   "execution_count": 14,
   "metadata": {},
   "outputs": [],
   "source": [
    "def getSplitWAE(groupTeam, groupNotTeam, teamTargetArray, notTeamTargetArray, matrix):\n",
    "        wae1 = findWeightedShannonEntropy(groupTeam, teamTargetArray, matrix)\n",
    "        \n",
    "        wae2 = findWeightedShannonEntropy(groupNotTeam, notTeamTargetArray, matrix)\n",
    "\n",
    "        return (wae1 + wae2)"
   ]
  },
  {
   "cell_type": "code",
   "execution_count": 92,
   "metadata": {},
   "outputs": [
    {
     "name": "stdout",
     "output_type": "stream",
     "text": [
      "10 Lowest Entropies:  [('KamalaHarris', 0.8919094504999716), ('BarackObama', 0.9469477457556994), ('ArianaGrande', 0.9529453112140598), ('SidneyPowell1', 0.9546119031023518), ('MichelleObama', 0.958975521722012), ('rihanna', 0.9647668343235515), ('NICKIMINAJ', 0.9660898111710107), ('KylieJenner', 0.9695709730344851), ('TrumpWarRoom', 0.9705844310763023), ('kayleighmcenany', 0.9718664627470197)]\n",
      "10 Highest Entropies:  [('ABC', 0.9992670226986101), ('espn', 0.9992670226986101), ('Twitter', 0.9990524568763821), ('jimmyfallon', 0.9990509447928101), ('NatGeo', 0.99904579377482), ('StephenAtHome', 0.99904579377482), ('SportsCenter', 0.99904579377482), ('DrBiden', 0.9987279314906236), ('BillGates', 0.9983180476184748), ('NFL', 0.9982796895058352)]\n"
     ]
    },
    {
     "data": {
      "image/png": "[encoded data removed]",
      "text/plain": [
       "<Figure size 432x288 with 1 Axes>"
      ]
     },
     "metadata": {
      "needs_background": "light"
     },
     "output_type": "display_data"
    }
   ],
   "source": [
    "def createWAEDict(matrix, targetArray, topTeams):\n",
    "    dictWAE = defaultdict(float)\n",
    "    for index, team in enumerate(topTeams):\n",
    "        groupTeam, groupNotTeam, TeamTargetArray, notTeamTargetArray = createSubgroups(matrix, targetArray, topTeams, team)\n",
    "        teamWAE = getSplitWAE(groupTeam, groupNotTeam, TeamTargetArray, notTeamTargetArray, matrix)\n",
    "        dictWAE[team] = teamWAE\n",
    "    return dictWAE\n",
    "\n",
    "dictOfwae = createWAEDict(matrix, targetArray, topTeamsList)\n",
    "counterWAE = Counter(dictOfwae)\n",
    "\n",
    "fig, ax1 = plt.subplots()\n",
    "ax1.hist(counterWAE.values(), color='orange', bins = 50)\n",
    "ax1.set_title('Weighted Average Entropy Distribution', fontsize=60)\n",
    "ax1.set_xlabel('Average weighted entropy', fontsize=40)\n",
    "ax1.set_ylabel('Number of splits', fontsize=40)\n",
    "ax1.tick_params(axis='x', labelsize=30)\n",
    "ax1.tick_params(axis='y', labelsize=30)\n",
    "fig.subplots_adjust(left=0, right=4, bottom=0, top=4)\n",
    "\n",
    "print(\"10 Lowest Entropies: \", counterWAE.most_common()[:-10-1:-1])\n",
    "print(\"10 Highest Entropies: \", counterWAE.most_common(10))"
   ]
  },
  {
   "cell_type": "code",
   "execution_count": 93,
   "metadata": {},
   "outputs": [
    {
     "name": "stdout",
     "output_type": "stream",
     "text": [
      "Lowest entropy: \n",
      "KamalaHarris\n"
     ]
    }
   ],
   "source": [
    "def findLowestSplit(dictOfWAE, matrix, topTeams, targetArray):\n",
    "    sortedDict = sorted(dictOfWAE.items(), key = lambda x: x[1], reverse = False)\n",
    "    return sortedDict[0][0]\n",
    "team = findLowestSplit(newDict, matrix, topTeamsList, targetArray)\n",
    "print(\"Lowest entropy: \")\n",
    "print(team)"
   ]
  },
  {
   "cell_type": "code",
   "execution_count": 94,
   "metadata": {},
   "outputs": [
    {
     "name": "stdout",
     "output_type": "stream",
     "text": [
      "\n",
      "Split by:  KamalaHarris\n",
      "Weighted entropy:  0.8919094504999716\n",
      "Chaotic group size:  (312, 84)\n",
      "Chaotic group entropy:  0.9444774680894845\n",
      "Calm group size:  (130, 84)\n",
      "Calm group entropy:  0.7657462082851403\n",
      "\n",
      "Split by:  ArianaGrande\n",
      "Weighted entropy:  0.8978935697462439\n",
      "Chaotic group size:  (288, 84)\n",
      "Chaotic group entropy:  0.9111942950464766\n",
      "Calm group size:  (24, 84)\n",
      "Calm group entropy:  0.7382848661434506\n",
      "\n",
      "Split by:  MichelleObama\n",
      "Weighted entropy:  0.8715800100828932\n",
      "Chaotic group size:  (275, 84)\n",
      "Chaotic group entropy:  0.8835020886292702\n",
      "Calm group size:  (13, 84)\n",
      "Calm group entropy:  0.6193821946787638\n",
      "\n",
      "Split by:  DonaldJTrumpJr\n",
      "Weighted entropy:  0.8461128866074614\n",
      "Chaotic group size:  (256, 84)\n",
      "Chaotic group entropy:  0.9089103274103589\n",
      "Calm group size:  (19, 84)\n",
      "Calm group entropy:  -0.0\n",
      "\n",
      "Split by:  whoisaddison\n",
      "Weighted entropy:  0.8633097917268996\n",
      "Chaotic group size:  (249, 84)\n",
      "Chaotic group entropy:  0.8875795449079771\n",
      "Calm group size:  (7, 84)\n",
      "Calm group entropy:  -0.0\n",
      "\n",
      "Split by:  50cent\n",
      "Weighted entropy:  0.8596426167495179\n",
      "Chaotic group size:  (245, 84)\n",
      "Chaotic group entropy:  0.8736775982474692\n",
      "Calm group size:  (4, 84)\n",
      "Calm group entropy:  -0.0\n",
      "\n",
      "Split by:  SidneyPowell1\n",
      "Weighted entropy:  0.8483394049965204\n",
      "Chaotic group size:  (233, 84)\n",
      "Chaotic group entropy:  0.8920307048246674\n",
      "Calm group size:  (12, 84)\n",
      "Calm group entropy:  -0.0\n",
      "\n",
      "Split by:  EmmanuelMacron\n",
      "Weighted entropy:  0.8699438061075507\n",
      "Chaotic group size:  (230, 84)\n",
      "Chaotic group entropy:  0.8812908992306927\n",
      "Calm group size:  (3, 84)\n",
      "Calm group entropy:  -0.0\n",
      "\n",
      "Split by:  KylieJenner\n",
      "Weighted entropy:  0.8641217629106202\n",
      "Chaotic group size:  (225, 84)\n",
      "Chaotic group entropy:  0.8672816222000259\n",
      "Calm group size:  (5, 84)\n",
      "Calm group entropy:  0.7219280948873623\n",
      "\n",
      "Split by:  AOC\n",
      "Weighted entropy:  0.8532101446729834\n",
      "Chaotic group size:  (10, 84)\n",
      "Chaotic group entropy:  0.9709505944546686\n",
      "Calm group size:  (215, 84)\n",
      "Calm group entropy:  0.8477338446831375\n",
      "\n",
      "Split by:  POTUS\n",
      "Weighted entropy:  0.6490224995673063\n",
      "Chaotic group size:  (8, 84)\n",
      "Chaotic group entropy:  0.8112781244591328\n",
      "Calm group size:  (2, 84)\n",
      "Calm group entropy:  -0.0\n",
      "\n",
      "Split by:  washingtonpost\n",
      "Weighted entropy:  0.5177136812595365\n",
      "Chaotic group size:  (7, 84)\n",
      "Chaotic group entropy:  0.5916727785823275\n",
      "Calm group size:  (1, 84)\n",
      "Calm group entropy:  -0.0\n",
      "\n",
      "Split by:  SenSanders\n",
      "Weighted entropy:  0.2857142857142857\n",
      "Chaotic group size:  (2, 84)\n",
      "Chaotic group entropy:  1.0\n",
      "Calm group size:  (5, 84)\n",
      "Calm group entropy:  -0.0\n"
     ]
    },
    {
     "data": {
      "text/plain": [
       "''"
      ]
     },
     "execution_count": 94,
     "metadata": {},
     "output_type": "execute_result"
    }
   ],
   "source": [
    "def createTree(matrix, topTeams, targetArray):\n",
    "    if len(matrix) < 5:\n",
    "        return \"\"\n",
    "    waeDict = createWAEDict(matrix, targetArray, topTeams)\n",
    "    user = findLowestSplit(waeDict, matrix, topTeams, targetArray)\n",
    "    if user != None:\n",
    "        group1, group2, targetArray1, targetArray2 = createSubgroups(matrix, targetArray, topTeams, user)\n",
    "    else:\n",
    "        return \"\"\n",
    "    print()\n",
    "    print(\"Split by: \", user)\n",
    "    print(\"Weighted entropy: \", waeDict[user])\n",
    "\n",
    "    group1sEntropy = findShannonEntropy(group1, targetArray1, matrix)\n",
    "    group2sEntropy = findShannonEntropy(group2, targetArray2, matrix)\n",
    "    \n",
    "    if group1sEntropy >= group2sEntropy:\n",
    "        chaoticGroup = group1\n",
    "        chaoticTA = targetArray1\n",
    "        calmGroup = group2\n",
    "        chaoticEntropy = group1sEntropy\n",
    "        calmEntropy = group2sEntropy\n",
    "    else:\n",
    "        chaoticGroup = group2\n",
    "        chaoticTA = targetArray2\n",
    "        calmGroup = group1\n",
    "        calmEntropy = group1sEntropy\n",
    "        chaoticEntropy = group2sEntropy\n",
    "\n",
    "    print(\"Chaotic group size: \", np.array(chaoticGroup).shape)\n",
    "    print(\"Chaotic group entropy: \", chaoticEntropy)\n",
    "    print(\"Calm group size: \", np.array(calmGroup).shape)\n",
    "    print(\"Calm group entropy: \", calmEntropy)\n",
    "\n",
    "    return createTree(chaoticGroup, topTeams, chaoticTA)\n",
    "        \n",
    "\n",
    "createTree(matrix, topTeamsList, targetArray)\n",
    "\n",
    "    \n",
    "    "
   ]
  },
  {
   "cell_type": "code",
   "execution_count": 99,
   "metadata": {},
   "outputs": [
    {
     "name": "stdout",
     "output_type": "stream",
     "text": [
      "[[1. 0.]]\n",
      "[[1 1 0 0 1 0 0 1 0 0 0 1 0 0 0 0 0 0 0 0 0 0 0 0 0 0 0 0 0 0 0 0 0 0 0 0\n",
      "  0 0 0 0 0 0 0 0 0 0 0 0 0 0 0 0 0 0 0 0 0 0 0 0 0 0 0 0 0 0 0 0 0 0 0 0\n",
      "  0 0 0 0 0 0 0 0 0 0 0 0]]\n"
     ]
    },
    {
     "data": {
      "image/png": "[encoded data removed]",
      "text/plain": [
       "<Figure size 432x288 with 1 Axes>"
      ]
     },
     "metadata": {
      "needs_background": "light"
     },
     "output_type": "display_data"
    }
   ],
   "source": [
    "from sklearn import tree\n",
    "import graphviz\n",
    "\n",
    "clf = tree.DecisionTreeClassifier()\n",
    "clf.fit(matrix, targetArray)\n",
    "\n",
    "x = clf.predict_proba(bothMatrix[0].reshape(1, -1))\n",
    "print(x)\n",
    "print(bothMatrix)\n",
    "\n",
    "tree.plot_tree(clf)\n",
    "dot_data = tree.export_graphviz(clf, out_file='decisionTree')\n",
    "graph = graphviz.Source(dot_data)"
   ]
  },
  {
   "cell_type": "code",
   "execution_count": null,
   "metadata": {},
   "outputs": [],
   "source": []
  }
 ],
 "metadata": {
  "kernelspec": {
   "display_name": "Python 3",
   "language": "python",
   "name": "python3"
  },
  "language_info": {
   "codemirror_mode": {
    "name": "ipython",
    "version": 3
   },
   "file_extension": ".py",
   "mimetype": "text/x-python",
   "name": "python",
   "nbconvert_exporter": "python",
   "pygments_lexer": "ipython3",
   "version": "3.8.3"
  }
 },
 "nbformat": 4,
 "nbformat_minor": 4
}
